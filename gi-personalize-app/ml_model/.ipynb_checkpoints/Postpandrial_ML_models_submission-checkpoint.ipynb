{
 "cells": [
  {
   "cell_type": "code",
   "execution_count": 1,
   "metadata": {
    "id": "fdCz6oz7XgR2"
   },
   "outputs": [],
   "source": [
    "import numpy as np\n",
    "import pandas as pd\n",
    "import scipy\n",
    "\n",
    "from sklearn.compose import ColumnTransformer\n",
    "from sklearn.model_selection import KFold, GroupKFold, LeaveOneOut, LeaveOneGroupOut\n",
    "from sklearn.impute import SimpleImputer\n",
    "from sklearn.preprocessing import StandardScaler, OneHotEncoder\n",
    "from sklearn.decomposition import PCA\n",
    "from sklearn.ensemble import RandomForestRegressor\n",
    "from sklearn.metrics import make_scorer\n",
    "from sklearn.pipeline import Pipeline\n",
    "\n",
    "import matplotlib.pyplot as plt\n",
    "from matplotlib.ticker import MaxNLocator\n",
    "import seaborn as sns\n",
    "\n",
    "from tqdm.auto import tqdm\n",
    "tqdm.pandas()"
   ]
  },
  {
   "cell_type": "code",
   "execution_count": 2,
   "metadata": {
    "id": "LfkCztCzXgR7"
   },
   "outputs": [],
   "source": [
    "RANDOM = 42"
   ]
  },
  {
   "cell_type": "code",
   "execution_count": 3,
   "metadata": {
    "id": "TtH6h3YIXgR8"
   },
   "outputs": [],
   "source": [
    "ANTHROPOMETRY = ['person_clinic_weight', 'person_clinic_height','person_clinic_bmi','person_clinic_waist','person_clinic_hip',\n",
    "                'person_clinic_waist2hip']\n",
    "\n",
    "AGE = ['person_md_age']\n",
    "\n",
    "SEX = ['person_md_sex']\n",
    "\n",
    "CLINICAL_BIOCHEMESTRY = ['person_clinic_pulse_1', 'person_clinic_pulse_2', 'person_clinic_pulse_3',\n",
    "                         'person_clinic_pulse_1_diastolic', 'person_clinic_pulse_2_diastolic', 'person_clinic_pulse_3_diastolic',\n",
    "                         'person_clinic_pulse_1_systolic', 'person_clinic_pulse_2_systolic', 'person_clinic_pulse_3_systolic',\n",
    "                         'person_affinity_il6', 'person_affinity_alt',  'person_affinity_chol',\n",
    "                         'person_affinity_hdl', 'person_affinity_ldl',  'person_affinity_non_hdl',\n",
    "                         'person_affinity_thr', 'person_affinity_tsh', 'person_pglu',   'person_trig', 'person_ins',\n",
    "                         'person_cpep',   'person_hba1c',  'person_basophils', 'person_eosinophils',\n",
    "                         'person_hb', 'person_lymphocytes', 'person_mch', 'person_mcv',\n",
    "                         'person_monocytes', 'person_neutrophils',   'person_nrbc', 'person_pcv',  'person_plt',\n",
    "                         'person_rbc',  'person_rdw','person_wbc']\n",
    "\n",
    "MEAL_CONTEXT = [\n",
    "    'previous_meal_carbohydrate', 'previous_meal_time_since', 'meal_carb_3hr_bef', 'meal_carb_6hr_bef',\n",
    "    'meal_carb_9hr_bef', 'meal_carb_12hr_bef', 'activity_post_meal_mvpa', 'activity_pre_meal_mvpa',\n",
    "    'activity_pre_24h_meal_mvpa', 'activity_post_meal_light', 'activity_pre_meal_light', 'activity_pre_24h_meal_light',\n",
    "    'sleep_hours_since_wake_up', 'sleep_hours_to_next_onset', 'sleep_hours_duration', 'sleep_percentage_efficiency',\n",
    "    'meal_baseline_difference', 'meal_norm_start_at_midnight']\n",
    "\n",
    "MEAL_CONTENT = ['meal_fat2carbs', 'meal_calories','meal_carbohydrate','meal_fat','meal_protein', 'meal_fibre', 'meal_sugar']\n",
    "\n",
    "OTHERS = ['meal_study','person_username', 'meal_has_set_meal', 'meal_set_meal']\n",
    "\n",
    "ALL_FEAT = ANTHROPOMETRY + CLINICAL_BIOCHEMESTRY + AGE + SEX + MEAL_CONTEXT + MEAL_CONTENT\n",
    "RESPONSES = ['meal_iauc', 'trig_rise_6h', 'cpep_rise_1h']"
   ]
  },
  {
   "cell_type": "code",
   "execution_count": 4,
   "metadata": {
    "id": "utKkQ_gqXgR9"
   },
   "outputs": [],
   "source": [
    "pearsonr_scorer = make_scorer(lambda x,y:scipy.stats.pearsonr(x,y)[0])"
   ]
  },
  {
   "cell_type": "code",
   "execution_count": 5,
   "metadata": {
    "id": "Wkf0XutLXgR9"
   },
   "outputs": [],
   "source": [
    "def bscore(estimator, whole_x, whole_y, btimes=100):\n",
    "    '''\n",
    "    finds the bootstrapped score and prints the result\n",
    "    '''\n",
    "    np.random.seed(RANDOM)\n",
    "    scores = []\n",
    "    for _ in tqdm(range(btimes)):\n",
    "        idx = np.random.choice(len(whole_x), len(whole_x))\n",
    "        x = whole_x.iloc[idx, :]\n",
    "        y = whole_y[idx]\n",
    "        scores.append(pearsonr_scorer(estimator, x, y))\n",
    "    print('mean pearson R:', np.mean(scores))\n",
    "    print('std  pearson R:', np.std(scores))"
   ]
  },
  {
   "cell_type": "code",
   "execution_count": 7,
   "metadata": {
    "id": "L2cvvGMSXgR-"
   },
   "outputs": [],
   "source": [
    "meals_clean_df = pd.read_csv('./sample_meals.csv')"
   ]
  },
  {
   "cell_type": "code",
   "execution_count": 8,
   "metadata": {},
   "outputs": [
    {
     "data": {
      "text/html": [
       "<div>\n",
       "<style scoped>\n",
       "    .dataframe tbody tr th:only-of-type {\n",
       "        vertical-align: middle;\n",
       "    }\n",
       "\n",
       "    .dataframe tbody tr th {\n",
       "        vertical-align: top;\n",
       "    }\n",
       "\n",
       "    .dataframe thead th {\n",
       "        text-align: right;\n",
       "    }\n",
       "</style>\n",
       "<table border=\"1\" class=\"dataframe\">\n",
       "  <thead>\n",
       "    <tr style=\"text-align: right;\">\n",
       "      <th></th>\n",
       "      <th>Unnamed: 0</th>\n",
       "      <th>person_clinic_weight</th>\n",
       "      <th>person_clinic_height</th>\n",
       "      <th>person_clinic_bmi</th>\n",
       "      <th>person_clinic_waist</th>\n",
       "      <th>person_clinic_hip</th>\n",
       "      <th>person_clinic_waist2hip</th>\n",
       "      <th>person_clinic_pulse_1</th>\n",
       "      <th>person_clinic_pulse_2</th>\n",
       "      <th>person_clinic_pulse_3</th>\n",
       "      <th>...</th>\n",
       "      <th>meal_protein</th>\n",
       "      <th>meal_fibre</th>\n",
       "      <th>meal_sugar</th>\n",
       "      <th>meal_study</th>\n",
       "      <th>person_username</th>\n",
       "      <th>meal_has_set_meal</th>\n",
       "      <th>meal_set_meal</th>\n",
       "      <th>meal_iauc</th>\n",
       "      <th>trig_rise_6h</th>\n",
       "      <th>cpep_rise_1h</th>\n",
       "    </tr>\n",
       "  </thead>\n",
       "  <tbody>\n",
       "    <tr>\n",
       "      <th>0</th>\n",
       "      <td>0</td>\n",
       "      <td>76.05</td>\n",
       "      <td>171.5</td>\n",
       "      <td>23.840068</td>\n",
       "      <td>74.5</td>\n",
       "      <td>103.0</td>\n",
       "      <td>0.850575</td>\n",
       "      <td>56.0</td>\n",
       "      <td>71.0</td>\n",
       "      <td>79.0</td>\n",
       "      <td>...</td>\n",
       "      <td>57.102000</td>\n",
       "      <td>2.030000</td>\n",
       "      <td>42.970000</td>\n",
       "      <td>PREDICT UK 1.0</td>\n",
       "      <td>predict89452</td>\n",
       "      <td>False</td>\n",
       "      <td>Meal CC</td>\n",
       "      <td>4358.894810</td>\n",
       "      <td>0.790000</td>\n",
       "      <td>3.62</td>\n",
       "    </tr>\n",
       "    <tr>\n",
       "      <th>1</th>\n",
       "      <td>1</td>\n",
       "      <td>68.80</td>\n",
       "      <td>166.3</td>\n",
       "      <td>26.365314</td>\n",
       "      <td>90.7</td>\n",
       "      <td>102.3</td>\n",
       "      <td>0.780105</td>\n",
       "      <td>82.0</td>\n",
       "      <td>75.0</td>\n",
       "      <td>61.0</td>\n",
       "      <td>...</td>\n",
       "      <td>10.296000</td>\n",
       "      <td>6.853000</td>\n",
       "      <td>75.000000</td>\n",
       "      <td>PREDICT UK 1.0</td>\n",
       "      <td>predict903931</td>\n",
       "      <td>False</td>\n",
       "      <td>NaN</td>\n",
       "      <td>615.600000</td>\n",
       "      <td>2.060000</td>\n",
       "      <td>1.60</td>\n",
       "    </tr>\n",
       "    <tr>\n",
       "      <th>2</th>\n",
       "      <td>2</td>\n",
       "      <td>91.10</td>\n",
       "      <td>181.2</td>\n",
       "      <td>29.241862</td>\n",
       "      <td>91.5</td>\n",
       "      <td>101.0</td>\n",
       "      <td>0.760638</td>\n",
       "      <td>68.0</td>\n",
       "      <td>68.0</td>\n",
       "      <td>40.0</td>\n",
       "      <td>...</td>\n",
       "      <td>9.600000</td>\n",
       "      <td>1.680000</td>\n",
       "      <td>16.151000</td>\n",
       "      <td>PREDICT UK 1.0</td>\n",
       "      <td>predict94442</td>\n",
       "      <td>False</td>\n",
       "      <td>NaN</td>\n",
       "      <td>10741.279833</td>\n",
       "      <td>0.340000</td>\n",
       "      <td>2.99</td>\n",
       "    </tr>\n",
       "    <tr>\n",
       "      <th>3</th>\n",
       "      <td>3</td>\n",
       "      <td>124.15</td>\n",
       "      <td>170.2</td>\n",
       "      <td>22.993080</td>\n",
       "      <td>79.5</td>\n",
       "      <td>105.0</td>\n",
       "      <td>0.904523</td>\n",
       "      <td>77.0</td>\n",
       "      <td>60.0</td>\n",
       "      <td>79.0</td>\n",
       "      <td>...</td>\n",
       "      <td>9.600000</td>\n",
       "      <td>0.000000</td>\n",
       "      <td>14.322000</td>\n",
       "      <td>PREDICT UK 1.0</td>\n",
       "      <td>predict902151</td>\n",
       "      <td>True</td>\n",
       "      <td>Meal GG</td>\n",
       "      <td>12733.752005</td>\n",
       "      <td>0.830000</td>\n",
       "      <td>2.34</td>\n",
       "    </tr>\n",
       "    <tr>\n",
       "      <th>4</th>\n",
       "      <td>4</td>\n",
       "      <td>99.60</td>\n",
       "      <td>167.2</td>\n",
       "      <td>28.414901</td>\n",
       "      <td>76.5</td>\n",
       "      <td>102.8</td>\n",
       "      <td>0.752000</td>\n",
       "      <td>72.0</td>\n",
       "      <td>80.0</td>\n",
       "      <td>86.0</td>\n",
       "      <td>...</td>\n",
       "      <td>9.400000</td>\n",
       "      <td>0.000000</td>\n",
       "      <td>57.200000</td>\n",
       "      <td>PREDICT UK 1.0</td>\n",
       "      <td>predict902811</td>\n",
       "      <td>True</td>\n",
       "      <td>Meal CC</td>\n",
       "      <td>14783.822220</td>\n",
       "      <td>1.600000</td>\n",
       "      <td>5.00</td>\n",
       "    </tr>\n",
       "    <tr>\n",
       "      <th>...</th>\n",
       "      <td>...</td>\n",
       "      <td>...</td>\n",
       "      <td>...</td>\n",
       "      <td>...</td>\n",
       "      <td>...</td>\n",
       "      <td>...</td>\n",
       "      <td>...</td>\n",
       "      <td>...</td>\n",
       "      <td>...</td>\n",
       "      <td>...</td>\n",
       "      <td>...</td>\n",
       "      <td>...</td>\n",
       "      <td>...</td>\n",
       "      <td>...</td>\n",
       "      <td>...</td>\n",
       "      <td>...</td>\n",
       "      <td>...</td>\n",
       "      <td>...</td>\n",
       "      <td>...</td>\n",
       "      <td>...</td>\n",
       "      <td>...</td>\n",
       "    </tr>\n",
       "    <tr>\n",
       "      <th>95</th>\n",
       "      <td>95</td>\n",
       "      <td>65.00</td>\n",
       "      <td>176.3</td>\n",
       "      <td>31.295989</td>\n",
       "      <td>87.5</td>\n",
       "      <td>104.9</td>\n",
       "      <td>0.873882</td>\n",
       "      <td>69.0</td>\n",
       "      <td>54.0</td>\n",
       "      <td>63.0</td>\n",
       "      <td>...</td>\n",
       "      <td>10.274947</td>\n",
       "      <td>15.500000</td>\n",
       "      <td>6.641437</td>\n",
       "      <td>PREDICT US 1.0</td>\n",
       "      <td>predict998121</td>\n",
       "      <td>True</td>\n",
       "      <td>NaN</td>\n",
       "      <td>12444.848407</td>\n",
       "      <td>1.241956</td>\n",
       "      <td>5.47</td>\n",
       "    </tr>\n",
       "    <tr>\n",
       "      <th>96</th>\n",
       "      <td>96</td>\n",
       "      <td>57.10</td>\n",
       "      <td>167.4</td>\n",
       "      <td>24.635484</td>\n",
       "      <td>82.9</td>\n",
       "      <td>92.9</td>\n",
       "      <td>0.883333</td>\n",
       "      <td>87.0</td>\n",
       "      <td>55.0</td>\n",
       "      <td>60.0</td>\n",
       "      <td>...</td>\n",
       "      <td>29.954462</td>\n",
       "      <td>4.535502</td>\n",
       "      <td>55.737827</td>\n",
       "      <td>PREDICT US 1.0</td>\n",
       "      <td>predict998031</td>\n",
       "      <td>True</td>\n",
       "      <td>Meal DD</td>\n",
       "      <td>2100.224995</td>\n",
       "      <td>1.524218</td>\n",
       "      <td>2.46</td>\n",
       "    </tr>\n",
       "    <tr>\n",
       "      <th>97</th>\n",
       "      <td>97</td>\n",
       "      <td>54.90</td>\n",
       "      <td>162.6</td>\n",
       "      <td>43.174406</td>\n",
       "      <td>113.5</td>\n",
       "      <td>102.3</td>\n",
       "      <td>0.809378</td>\n",
       "      <td>63.0</td>\n",
       "      <td>65.0</td>\n",
       "      <td>103.0</td>\n",
       "      <td>...</td>\n",
       "      <td>0.000000</td>\n",
       "      <td>2.180000</td>\n",
       "      <td>40.900000</td>\n",
       "      <td>PREDICT US 1.0</td>\n",
       "      <td>predict998371</td>\n",
       "      <td>False</td>\n",
       "      <td>NaN</td>\n",
       "      <td>6294.000000</td>\n",
       "      <td>0.677430</td>\n",
       "      <td>3.32</td>\n",
       "    </tr>\n",
       "    <tr>\n",
       "      <th>98</th>\n",
       "      <td>98</td>\n",
       "      <td>62.80</td>\n",
       "      <td>181.5</td>\n",
       "      <td>33.180785</td>\n",
       "      <td>79.5</td>\n",
       "      <td>117.4</td>\n",
       "      <td>0.837259</td>\n",
       "      <td>65.0</td>\n",
       "      <td>55.0</td>\n",
       "      <td>62.0</td>\n",
       "      <td>...</td>\n",
       "      <td>6.160000</td>\n",
       "      <td>3.037446</td>\n",
       "      <td>4.000000</td>\n",
       "      <td>PREDICT US 1.0</td>\n",
       "      <td>predict998221</td>\n",
       "      <td>False</td>\n",
       "      <td>NaN</td>\n",
       "      <td>5785.149389</td>\n",
       "      <td>0.293553</td>\n",
       "      <td>2.74</td>\n",
       "    </tr>\n",
       "    <tr>\n",
       "      <th>99</th>\n",
       "      <td>99</td>\n",
       "      <td>94.10</td>\n",
       "      <td>163.7</td>\n",
       "      <td>23.759776</td>\n",
       "      <td>101.1</td>\n",
       "      <td>107.4</td>\n",
       "      <td>0.855545</td>\n",
       "      <td>68.0</td>\n",
       "      <td>73.0</td>\n",
       "      <td>103.0</td>\n",
       "      <td>...</td>\n",
       "      <td>33.133478</td>\n",
       "      <td>0.000000</td>\n",
       "      <td>8.026175</td>\n",
       "      <td>PREDICT US 1.0</td>\n",
       "      <td>predict998251</td>\n",
       "      <td>False</td>\n",
       "      <td>Meal DD</td>\n",
       "      <td>3506.533334</td>\n",
       "      <td>0.259682</td>\n",
       "      <td>5.47</td>\n",
       "    </tr>\n",
       "  </tbody>\n",
       "</table>\n",
       "<p>100 rows × 77 columns</p>\n",
       "</div>"
      ],
      "text/plain": [
       "    Unnamed: 0  person_clinic_weight  person_clinic_height  person_clinic_bmi  \\\n",
       "0            0                 76.05                 171.5          23.840068   \n",
       "1            1                 68.80                 166.3          26.365314   \n",
       "2            2                 91.10                 181.2          29.241862   \n",
       "3            3                124.15                 170.2          22.993080   \n",
       "4            4                 99.60                 167.2          28.414901   \n",
       "..         ...                   ...                   ...                ...   \n",
       "95          95                 65.00                 176.3          31.295989   \n",
       "96          96                 57.10                 167.4          24.635484   \n",
       "97          97                 54.90                 162.6          43.174406   \n",
       "98          98                 62.80                 181.5          33.180785   \n",
       "99          99                 94.10                 163.7          23.759776   \n",
       "\n",
       "    person_clinic_waist  person_clinic_hip  person_clinic_waist2hip  \\\n",
       "0                  74.5              103.0                 0.850575   \n",
       "1                  90.7              102.3                 0.780105   \n",
       "2                  91.5              101.0                 0.760638   \n",
       "3                  79.5              105.0                 0.904523   \n",
       "4                  76.5              102.8                 0.752000   \n",
       "..                  ...                ...                      ...   \n",
       "95                 87.5              104.9                 0.873882   \n",
       "96                 82.9               92.9                 0.883333   \n",
       "97                113.5              102.3                 0.809378   \n",
       "98                 79.5              117.4                 0.837259   \n",
       "99                101.1              107.4                 0.855545   \n",
       "\n",
       "    person_clinic_pulse_1  person_clinic_pulse_2  person_clinic_pulse_3  ...  \\\n",
       "0                    56.0                   71.0                   79.0  ...   \n",
       "1                    82.0                   75.0                   61.0  ...   \n",
       "2                    68.0                   68.0                   40.0  ...   \n",
       "3                    77.0                   60.0                   79.0  ...   \n",
       "4                    72.0                   80.0                   86.0  ...   \n",
       "..                    ...                    ...                    ...  ...   \n",
       "95                   69.0                   54.0                   63.0  ...   \n",
       "96                   87.0                   55.0                   60.0  ...   \n",
       "97                   63.0                   65.0                  103.0  ...   \n",
       "98                   65.0                   55.0                   62.0  ...   \n",
       "99                   68.0                   73.0                  103.0  ...   \n",
       "\n",
       "    meal_protein  meal_fibre  meal_sugar      meal_study  person_username  \\\n",
       "0      57.102000    2.030000   42.970000  PREDICT UK 1.0     predict89452   \n",
       "1      10.296000    6.853000   75.000000  PREDICT UK 1.0    predict903931   \n",
       "2       9.600000    1.680000   16.151000  PREDICT UK 1.0     predict94442   \n",
       "3       9.600000    0.000000   14.322000  PREDICT UK 1.0    predict902151   \n",
       "4       9.400000    0.000000   57.200000  PREDICT UK 1.0    predict902811   \n",
       "..           ...         ...         ...             ...              ...   \n",
       "95     10.274947   15.500000    6.641437  PREDICT US 1.0    predict998121   \n",
       "96     29.954462    4.535502   55.737827  PREDICT US 1.0    predict998031   \n",
       "97      0.000000    2.180000   40.900000  PREDICT US 1.0    predict998371   \n",
       "98      6.160000    3.037446    4.000000  PREDICT US 1.0    predict998221   \n",
       "99     33.133478    0.000000    8.026175  PREDICT US 1.0    predict998251   \n",
       "\n",
       "    meal_has_set_meal  meal_set_meal     meal_iauc  trig_rise_6h  cpep_rise_1h  \n",
       "0               False        Meal CC   4358.894810      0.790000          3.62  \n",
       "1               False            NaN    615.600000      2.060000          1.60  \n",
       "2               False            NaN  10741.279833      0.340000          2.99  \n",
       "3                True        Meal GG  12733.752005      0.830000          2.34  \n",
       "4                True        Meal CC  14783.822220      1.600000          5.00  \n",
       "..                ...            ...           ...           ...           ...  \n",
       "95               True            NaN  12444.848407      1.241956          5.47  \n",
       "96               True        Meal DD   2100.224995      1.524218          2.46  \n",
       "97              False            NaN   6294.000000      0.677430          3.32  \n",
       "98              False            NaN   5785.149389      0.293553          2.74  \n",
       "99              False        Meal DD   3506.533334      0.259682          5.47  \n",
       "\n",
       "[100 rows x 77 columns]"
      ]
     },
     "execution_count": 8,
     "metadata": {},
     "output_type": "execute_result"
    }
   ],
   "source": [
    "meals_clean_df"
   ]
  },
  {
   "cell_type": "code",
   "execution_count": 9,
   "metadata": {
    "id": "s7G1jR4rXgR_"
   },
   "outputs": [],
   "source": [
    "raw_microbiome_df = pd.read_csv('./sample_microbiome.csv')"
   ]
  },
  {
   "cell_type": "code",
   "execution_count": 10,
   "metadata": {
    "id": "3EZWE8s1XgSA"
   },
   "outputs": [],
   "source": [
    "df_clean = meals_clean_df.merge(raw_microbiome_df, on=['person_username', 'meal_study'])"
   ]
  },
  {
   "cell_type": "code",
   "execution_count": 11,
   "metadata": {},
   "outputs": [
    {
     "data": {
      "text/html": [
       "<div>\n",
       "<style scoped>\n",
       "    .dataframe tbody tr th:only-of-type {\n",
       "        vertical-align: middle;\n",
       "    }\n",
       "\n",
       "    .dataframe tbody tr th {\n",
       "        vertical-align: top;\n",
       "    }\n",
       "\n",
       "    .dataframe thead th {\n",
       "        text-align: right;\n",
       "    }\n",
       "</style>\n",
       "<table border=\"1\" class=\"dataframe\">\n",
       "  <thead>\n",
       "    <tr style=\"text-align: right;\">\n",
       "      <th></th>\n",
       "      <th>Unnamed: 0_x</th>\n",
       "      <th>person_clinic_weight</th>\n",
       "      <th>person_clinic_height</th>\n",
       "      <th>person_clinic_bmi</th>\n",
       "      <th>person_clinic_waist</th>\n",
       "      <th>person_clinic_hip</th>\n",
       "      <th>person_clinic_waist2hip</th>\n",
       "      <th>person_clinic_pulse_1</th>\n",
       "      <th>person_clinic_pulse_2</th>\n",
       "      <th>person_clinic_pulse_3</th>\n",
       "      <th>...</th>\n",
       "      <th>Bacteria|Firmicutes|Clostridia|Clostridiales|Lachnospiraceae|NA.688</th>\n",
       "      <th>Bacteria|Firmicutes|Clostridia|Clostridiales|Ruminococcaceae|Ruminococcaceae_UCG-004.24</th>\n",
       "      <th>Bacteria|Epsilonbacteraeota|Campylobacteria|Campylobacterales|Campylobacteraceae|Campylobacter</th>\n",
       "      <th>Bacteria|Bacteroidetes|Bacteroidia|Bacteroidales|Prevotellaceae|Alloprevotella.47</th>\n",
       "      <th>Bacteria|Bacteroidetes|Bacteroidia|Bacteroidales|Prevotellaceae|Alloprevotella.48</th>\n",
       "      <th>Bacteria|Bacteroidetes|Bacteroidia|Bacteroidales|Bacteroidaceae|Bacteroides.432</th>\n",
       "      <th>Bacteria|Firmicutes|Clostridia|Clostridiales|Lachnospiraceae|NA.689</th>\n",
       "      <th>Bacteria|Firmicutes|Clostridia|Clostridiales|Ruminococcaceae|NA.232</th>\n",
       "      <th>Bacteria|Firmicutes|Clostridia|NA|NA|NA.22</th>\n",
       "      <th>Bacteria|Bacteroidetes|Bacteroidia|Bacteroidales|Marinifilaceae|Butyricimonas.72</th>\n",
       "    </tr>\n",
       "  </thead>\n",
       "  <tbody>\n",
       "    <tr>\n",
       "      <th>0</th>\n",
       "      <td>0</td>\n",
       "      <td>76.05</td>\n",
       "      <td>171.5</td>\n",
       "      <td>23.840068</td>\n",
       "      <td>74.5</td>\n",
       "      <td>103.0</td>\n",
       "      <td>0.850575</td>\n",
       "      <td>56.0</td>\n",
       "      <td>71.0</td>\n",
       "      <td>79.0</td>\n",
       "      <td>...</td>\n",
       "      <td>0.0</td>\n",
       "      <td>0.0</td>\n",
       "      <td>0.0</td>\n",
       "      <td>0.0</td>\n",
       "      <td>0.0</td>\n",
       "      <td>0.0</td>\n",
       "      <td>0.0</td>\n",
       "      <td>0.0</td>\n",
       "      <td>0.0</td>\n",
       "      <td>0.0</td>\n",
       "    </tr>\n",
       "    <tr>\n",
       "      <th>1</th>\n",
       "      <td>1</td>\n",
       "      <td>68.80</td>\n",
       "      <td>166.3</td>\n",
       "      <td>26.365314</td>\n",
       "      <td>90.7</td>\n",
       "      <td>102.3</td>\n",
       "      <td>0.780105</td>\n",
       "      <td>82.0</td>\n",
       "      <td>75.0</td>\n",
       "      <td>61.0</td>\n",
       "      <td>...</td>\n",
       "      <td>0.0</td>\n",
       "      <td>0.0</td>\n",
       "      <td>0.0</td>\n",
       "      <td>0.0</td>\n",
       "      <td>0.0</td>\n",
       "      <td>0.0</td>\n",
       "      <td>0.0</td>\n",
       "      <td>0.0</td>\n",
       "      <td>0.0</td>\n",
       "      <td>0.0</td>\n",
       "    </tr>\n",
       "    <tr>\n",
       "      <th>2</th>\n",
       "      <td>2</td>\n",
       "      <td>91.10</td>\n",
       "      <td>181.2</td>\n",
       "      <td>29.241862</td>\n",
       "      <td>91.5</td>\n",
       "      <td>101.0</td>\n",
       "      <td>0.760638</td>\n",
       "      <td>68.0</td>\n",
       "      <td>68.0</td>\n",
       "      <td>40.0</td>\n",
       "      <td>...</td>\n",
       "      <td>0.0</td>\n",
       "      <td>0.0</td>\n",
       "      <td>0.0</td>\n",
       "      <td>0.0</td>\n",
       "      <td>0.0</td>\n",
       "      <td>0.0</td>\n",
       "      <td>0.0</td>\n",
       "      <td>0.0</td>\n",
       "      <td>0.0</td>\n",
       "      <td>0.0</td>\n",
       "    </tr>\n",
       "    <tr>\n",
       "      <th>3</th>\n",
       "      <td>3</td>\n",
       "      <td>124.15</td>\n",
       "      <td>170.2</td>\n",
       "      <td>22.993080</td>\n",
       "      <td>79.5</td>\n",
       "      <td>105.0</td>\n",
       "      <td>0.904523</td>\n",
       "      <td>77.0</td>\n",
       "      <td>60.0</td>\n",
       "      <td>79.0</td>\n",
       "      <td>...</td>\n",
       "      <td>0.0</td>\n",
       "      <td>0.0</td>\n",
       "      <td>0.0</td>\n",
       "      <td>0.0</td>\n",
       "      <td>0.0</td>\n",
       "      <td>0.0</td>\n",
       "      <td>0.0</td>\n",
       "      <td>0.0</td>\n",
       "      <td>0.0</td>\n",
       "      <td>0.0</td>\n",
       "    </tr>\n",
       "    <tr>\n",
       "      <th>4</th>\n",
       "      <td>4</td>\n",
       "      <td>99.60</td>\n",
       "      <td>167.2</td>\n",
       "      <td>28.414901</td>\n",
       "      <td>76.5</td>\n",
       "      <td>102.8</td>\n",
       "      <td>0.752000</td>\n",
       "      <td>72.0</td>\n",
       "      <td>80.0</td>\n",
       "      <td>86.0</td>\n",
       "      <td>...</td>\n",
       "      <td>0.0</td>\n",
       "      <td>0.0</td>\n",
       "      <td>0.0</td>\n",
       "      <td>0.0</td>\n",
       "      <td>0.0</td>\n",
       "      <td>0.0</td>\n",
       "      <td>0.0</td>\n",
       "      <td>0.0</td>\n",
       "      <td>0.0</td>\n",
       "      <td>0.0</td>\n",
       "    </tr>\n",
       "    <tr>\n",
       "      <th>...</th>\n",
       "      <td>...</td>\n",
       "      <td>...</td>\n",
       "      <td>...</td>\n",
       "      <td>...</td>\n",
       "      <td>...</td>\n",
       "      <td>...</td>\n",
       "      <td>...</td>\n",
       "      <td>...</td>\n",
       "      <td>...</td>\n",
       "      <td>...</td>\n",
       "      <td>...</td>\n",
       "      <td>...</td>\n",
       "      <td>...</td>\n",
       "      <td>...</td>\n",
       "      <td>...</td>\n",
       "      <td>...</td>\n",
       "      <td>...</td>\n",
       "      <td>...</td>\n",
       "      <td>...</td>\n",
       "      <td>...</td>\n",
       "      <td>...</td>\n",
       "    </tr>\n",
       "    <tr>\n",
       "      <th>123</th>\n",
       "      <td>92</td>\n",
       "      <td>78.60</td>\n",
       "      <td>163.7</td>\n",
       "      <td>22.924931</td>\n",
       "      <td>82.4</td>\n",
       "      <td>95.0</td>\n",
       "      <td>0.789346</td>\n",
       "      <td>67.0</td>\n",
       "      <td>60.0</td>\n",
       "      <td>67.0</td>\n",
       "      <td>...</td>\n",
       "      <td>0.0</td>\n",
       "      <td>0.0</td>\n",
       "      <td>0.0</td>\n",
       "      <td>0.0</td>\n",
       "      <td>0.0</td>\n",
       "      <td>0.0</td>\n",
       "      <td>0.0</td>\n",
       "      <td>0.0</td>\n",
       "      <td>0.0</td>\n",
       "      <td>0.0</td>\n",
       "    </tr>\n",
       "    <tr>\n",
       "      <th>124</th>\n",
       "      <td>94</td>\n",
       "      <td>56.00</td>\n",
       "      <td>163.7</td>\n",
       "      <td>18.760335</td>\n",
       "      <td>82.9</td>\n",
       "      <td>103.3</td>\n",
       "      <td>0.748521</td>\n",
       "      <td>64.0</td>\n",
       "      <td>64.0</td>\n",
       "      <td>53.0</td>\n",
       "      <td>...</td>\n",
       "      <td>0.0</td>\n",
       "      <td>0.0</td>\n",
       "      <td>0.0</td>\n",
       "      <td>0.0</td>\n",
       "      <td>0.0</td>\n",
       "      <td>0.0</td>\n",
       "      <td>0.0</td>\n",
       "      <td>0.0</td>\n",
       "      <td>0.0</td>\n",
       "      <td>0.0</td>\n",
       "    </tr>\n",
       "    <tr>\n",
       "      <th>125</th>\n",
       "      <td>96</td>\n",
       "      <td>57.10</td>\n",
       "      <td>167.4</td>\n",
       "      <td>24.635484</td>\n",
       "      <td>82.9</td>\n",
       "      <td>92.9</td>\n",
       "      <td>0.883333</td>\n",
       "      <td>87.0</td>\n",
       "      <td>55.0</td>\n",
       "      <td>60.0</td>\n",
       "      <td>...</td>\n",
       "      <td>0.0</td>\n",
       "      <td>0.0</td>\n",
       "      <td>0.0</td>\n",
       "      <td>0.0</td>\n",
       "      <td>0.0</td>\n",
       "      <td>0.0</td>\n",
       "      <td>0.0</td>\n",
       "      <td>0.0</td>\n",
       "      <td>0.0</td>\n",
       "      <td>0.0</td>\n",
       "    </tr>\n",
       "    <tr>\n",
       "      <th>126</th>\n",
       "      <td>97</td>\n",
       "      <td>54.90</td>\n",
       "      <td>162.6</td>\n",
       "      <td>43.174406</td>\n",
       "      <td>113.5</td>\n",
       "      <td>102.3</td>\n",
       "      <td>0.809378</td>\n",
       "      <td>63.0</td>\n",
       "      <td>65.0</td>\n",
       "      <td>103.0</td>\n",
       "      <td>...</td>\n",
       "      <td>0.0</td>\n",
       "      <td>0.0</td>\n",
       "      <td>0.0</td>\n",
       "      <td>0.0</td>\n",
       "      <td>0.0</td>\n",
       "      <td>0.0</td>\n",
       "      <td>0.0</td>\n",
       "      <td>0.0</td>\n",
       "      <td>0.0</td>\n",
       "      <td>0.0</td>\n",
       "    </tr>\n",
       "    <tr>\n",
       "      <th>127</th>\n",
       "      <td>99</td>\n",
       "      <td>94.10</td>\n",
       "      <td>163.7</td>\n",
       "      <td>23.759776</td>\n",
       "      <td>101.1</td>\n",
       "      <td>107.4</td>\n",
       "      <td>0.855545</td>\n",
       "      <td>68.0</td>\n",
       "      <td>73.0</td>\n",
       "      <td>103.0</td>\n",
       "      <td>...</td>\n",
       "      <td>0.0</td>\n",
       "      <td>0.0</td>\n",
       "      <td>0.0</td>\n",
       "      <td>0.0</td>\n",
       "      <td>0.0</td>\n",
       "      <td>0.0</td>\n",
       "      <td>0.0</td>\n",
       "      <td>0.0</td>\n",
       "      <td>0.0</td>\n",
       "      <td>0.0</td>\n",
       "    </tr>\n",
       "  </tbody>\n",
       "</table>\n",
       "<p>128 rows × 4952 columns</p>\n",
       "</div>"
      ],
      "text/plain": [
       "     Unnamed: 0_x  person_clinic_weight  person_clinic_height  \\\n",
       "0               0                 76.05                 171.5   \n",
       "1               1                 68.80                 166.3   \n",
       "2               2                 91.10                 181.2   \n",
       "3               3                124.15                 170.2   \n",
       "4               4                 99.60                 167.2   \n",
       "..            ...                   ...                   ...   \n",
       "123            92                 78.60                 163.7   \n",
       "124            94                 56.00                 163.7   \n",
       "125            96                 57.10                 167.4   \n",
       "126            97                 54.90                 162.6   \n",
       "127            99                 94.10                 163.7   \n",
       "\n",
       "     person_clinic_bmi  person_clinic_waist  person_clinic_hip  \\\n",
       "0            23.840068                 74.5              103.0   \n",
       "1            26.365314                 90.7              102.3   \n",
       "2            29.241862                 91.5              101.0   \n",
       "3            22.993080                 79.5              105.0   \n",
       "4            28.414901                 76.5              102.8   \n",
       "..                 ...                  ...                ...   \n",
       "123          22.924931                 82.4               95.0   \n",
       "124          18.760335                 82.9              103.3   \n",
       "125          24.635484                 82.9               92.9   \n",
       "126          43.174406                113.5              102.3   \n",
       "127          23.759776                101.1              107.4   \n",
       "\n",
       "     person_clinic_waist2hip  person_clinic_pulse_1  person_clinic_pulse_2  \\\n",
       "0                   0.850575                   56.0                   71.0   \n",
       "1                   0.780105                   82.0                   75.0   \n",
       "2                   0.760638                   68.0                   68.0   \n",
       "3                   0.904523                   77.0                   60.0   \n",
       "4                   0.752000                   72.0                   80.0   \n",
       "..                       ...                    ...                    ...   \n",
       "123                 0.789346                   67.0                   60.0   \n",
       "124                 0.748521                   64.0                   64.0   \n",
       "125                 0.883333                   87.0                   55.0   \n",
       "126                 0.809378                   63.0                   65.0   \n",
       "127                 0.855545                   68.0                   73.0   \n",
       "\n",
       "     person_clinic_pulse_3  ...  \\\n",
       "0                     79.0  ...   \n",
       "1                     61.0  ...   \n",
       "2                     40.0  ...   \n",
       "3                     79.0  ...   \n",
       "4                     86.0  ...   \n",
       "..                     ...  ...   \n",
       "123                   67.0  ...   \n",
       "124                   53.0  ...   \n",
       "125                   60.0  ...   \n",
       "126                  103.0  ...   \n",
       "127                  103.0  ...   \n",
       "\n",
       "     Bacteria|Firmicutes|Clostridia|Clostridiales|Lachnospiraceae|NA.688  \\\n",
       "0                                                  0.0                     \n",
       "1                                                  0.0                     \n",
       "2                                                  0.0                     \n",
       "3                                                  0.0                     \n",
       "4                                                  0.0                     \n",
       "..                                                 ...                     \n",
       "123                                                0.0                     \n",
       "124                                                0.0                     \n",
       "125                                                0.0                     \n",
       "126                                                0.0                     \n",
       "127                                                0.0                     \n",
       "\n",
       "     Bacteria|Firmicutes|Clostridia|Clostridiales|Ruminococcaceae|Ruminococcaceae_UCG-004.24  \\\n",
       "0                                                  0.0                                         \n",
       "1                                                  0.0                                         \n",
       "2                                                  0.0                                         \n",
       "3                                                  0.0                                         \n",
       "4                                                  0.0                                         \n",
       "..                                                 ...                                         \n",
       "123                                                0.0                                         \n",
       "124                                                0.0                                         \n",
       "125                                                0.0                                         \n",
       "126                                                0.0                                         \n",
       "127                                                0.0                                         \n",
       "\n",
       "     Bacteria|Epsilonbacteraeota|Campylobacteria|Campylobacterales|Campylobacteraceae|Campylobacter  \\\n",
       "0                                                  0.0                                                \n",
       "1                                                  0.0                                                \n",
       "2                                                  0.0                                                \n",
       "3                                                  0.0                                                \n",
       "4                                                  0.0                                                \n",
       "..                                                 ...                                                \n",
       "123                                                0.0                                                \n",
       "124                                                0.0                                                \n",
       "125                                                0.0                                                \n",
       "126                                                0.0                                                \n",
       "127                                                0.0                                                \n",
       "\n",
       "     Bacteria|Bacteroidetes|Bacteroidia|Bacteroidales|Prevotellaceae|Alloprevotella.47  \\\n",
       "0                                                  0.0                                   \n",
       "1                                                  0.0                                   \n",
       "2                                                  0.0                                   \n",
       "3                                                  0.0                                   \n",
       "4                                                  0.0                                   \n",
       "..                                                 ...                                   \n",
       "123                                                0.0                                   \n",
       "124                                                0.0                                   \n",
       "125                                                0.0                                   \n",
       "126                                                0.0                                   \n",
       "127                                                0.0                                   \n",
       "\n",
       "     Bacteria|Bacteroidetes|Bacteroidia|Bacteroidales|Prevotellaceae|Alloprevotella.48  \\\n",
       "0                                                  0.0                                   \n",
       "1                                                  0.0                                   \n",
       "2                                                  0.0                                   \n",
       "3                                                  0.0                                   \n",
       "4                                                  0.0                                   \n",
       "..                                                 ...                                   \n",
       "123                                                0.0                                   \n",
       "124                                                0.0                                   \n",
       "125                                                0.0                                   \n",
       "126                                                0.0                                   \n",
       "127                                                0.0                                   \n",
       "\n",
       "     Bacteria|Bacteroidetes|Bacteroidia|Bacteroidales|Bacteroidaceae|Bacteroides.432  \\\n",
       "0                                                  0.0                                 \n",
       "1                                                  0.0                                 \n",
       "2                                                  0.0                                 \n",
       "3                                                  0.0                                 \n",
       "4                                                  0.0                                 \n",
       "..                                                 ...                                 \n",
       "123                                                0.0                                 \n",
       "124                                                0.0                                 \n",
       "125                                                0.0                                 \n",
       "126                                                0.0                                 \n",
       "127                                                0.0                                 \n",
       "\n",
       "     Bacteria|Firmicutes|Clostridia|Clostridiales|Lachnospiraceae|NA.689  \\\n",
       "0                                                  0.0                     \n",
       "1                                                  0.0                     \n",
       "2                                                  0.0                     \n",
       "3                                                  0.0                     \n",
       "4                                                  0.0                     \n",
       "..                                                 ...                     \n",
       "123                                                0.0                     \n",
       "124                                                0.0                     \n",
       "125                                                0.0                     \n",
       "126                                                0.0                     \n",
       "127                                                0.0                     \n",
       "\n",
       "     Bacteria|Firmicutes|Clostridia|Clostridiales|Ruminococcaceae|NA.232  \\\n",
       "0                                                  0.0                     \n",
       "1                                                  0.0                     \n",
       "2                                                  0.0                     \n",
       "3                                                  0.0                     \n",
       "4                                                  0.0                     \n",
       "..                                                 ...                     \n",
       "123                                                0.0                     \n",
       "124                                                0.0                     \n",
       "125                                                0.0                     \n",
       "126                                                0.0                     \n",
       "127                                                0.0                     \n",
       "\n",
       "     Bacteria|Firmicutes|Clostridia|NA|NA|NA.22  \\\n",
       "0                                           0.0   \n",
       "1                                           0.0   \n",
       "2                                           0.0   \n",
       "3                                           0.0   \n",
       "4                                           0.0   \n",
       "..                                          ...   \n",
       "123                                         0.0   \n",
       "124                                         0.0   \n",
       "125                                         0.0   \n",
       "126                                         0.0   \n",
       "127                                         0.0   \n",
       "\n",
       "     Bacteria|Bacteroidetes|Bacteroidia|Bacteroidales|Marinifilaceae|Butyricimonas.72  \n",
       "0                                                  0.0                                 \n",
       "1                                                  0.0                                 \n",
       "2                                                  0.0                                 \n",
       "3                                                  0.0                                 \n",
       "4                                                  0.0                                 \n",
       "..                                                 ...                                 \n",
       "123                                                0.0                                 \n",
       "124                                                0.0                                 \n",
       "125                                                0.0                                 \n",
       "126                                                0.0                                 \n",
       "127                                                0.0                                 \n",
       "\n",
       "[128 rows x 4952 columns]"
      ]
     },
     "execution_count": 11,
     "metadata": {},
     "output_type": "execute_result"
    }
   ],
   "source": [
    "df_clean"
   ]
  },
  {
   "cell_type": "code",
   "execution_count": 12,
   "metadata": {
    "id": "0pcpJ93qXgSB"
   },
   "outputs": [],
   "source": [
    "# perform feature reduction on microbiome\n",
    "df = raw_microbiome_df.loc[:, raw_microbiome_df.columns.str.contains('Bacteria')]\n",
    "pca_pipe = [('imputer', SimpleImputer(strategy='mean')),\n",
    "            ('scale', StandardScaler(with_mean=True,\n",
    "                                     with_std=True)),\n",
    "            ('pca', PCA(n_components=10))\n",
    "           ]\n",
    "axer = Pipeline(pca_pipe)\n",
    "pcadf = pd.DataFrame(axer.fit_transform(df))\n",
    "pcadf.columns = ['mb_pca_' + str(i) for i in range(len(pcadf.columns))]\n",
    "raw_microbiome_df = raw_microbiome_df.join(pcadf)"
   ]
  },
  {
   "cell_type": "code",
   "execution_count": 13,
   "metadata": {
    "id": "t2sWyUqlXgSB"
   },
   "outputs": [],
   "source": [
    "# separate out dataframes (training and validation)\n",
    "df_uk = df_clean[df_clean.meal_study.isin(['PREDICT UK 1.0'])].reset_index(drop=True)\n",
    "df_us = df_clean[df_clean.meal_study.isin(['PREDICT US 1.0'])].reset_index(drop=True)"
   ]
  },
  {
   "cell_type": "code",
   "execution_count": 14,
   "metadata": {
    "id": "Kzmu_XCSXgSC"
   },
   "outputs": [
    {
     "name": "stderr",
     "output_type": "stream",
     "text": [
      "/home/masoom/.local/lib/python3.6/site-packages/seaborn/_decorators.py:43: FutureWarning: Pass the following variables as keyword args: x, y. From version 0.12, the only valid positional argument will be `data`, and passing other arguments without an explicit keyword will result in an error or misinterpretation.\n",
      "  FutureWarning\n",
      "/home/masoom/.local/lib/python3.6/site-packages/seaborn/_decorators.py:43: FutureWarning: Pass the following variables as keyword args: x, y. From version 0.12, the only valid positional argument will be `data`, and passing other arguments without an explicit keyword will result in an error or misinterpretation.\n",
      "  FutureWarning\n"
     ]
    },
    {
     "data": {
      "text/plain": [
       "<AxesSubplot:xlabel='person_cpep', ylabel='cpep_rise_1h'>"
      ]
     },
     "execution_count": 14,
     "metadata": {},
     "output_type": "execute_result"
    },
    {
     "data": {
      "image/png": "[encoded data removed]",
      "text/plain": [
       "<Figure size 432x288 with 1 Axes>"
      ]
     },
     "metadata": {
      "needs_background": "light"
     },
     "output_type": "display_data"
    }
   ],
   "source": [
    "sns.scatterplot(df_uk.person_cpep, df_uk.cpep_rise_1h)\n",
    "sns.scatterplot(df_us.person_cpep, df_us.cpep_rise_1h)"
   ]
  },
  {
   "cell_type": "code",
   "execution_count": 15,
   "metadata": {
    "id": "rNYTBlyMXgSC"
   },
   "outputs": [
    {
     "name": "stderr",
     "output_type": "stream",
     "text": [
      "/home/masoom/.local/lib/python3.6/site-packages/seaborn/_decorators.py:43: FutureWarning: Pass the following variables as keyword args: x, y. From version 0.12, the only valid positional argument will be `data`, and passing other arguments without an explicit keyword will result in an error or misinterpretation.\n",
      "  FutureWarning\n",
      "/home/masoom/.local/lib/python3.6/site-packages/seaborn/_decorators.py:43: FutureWarning: Pass the following variables as keyword args: x, y. From version 0.12, the only valid positional argument will be `data`, and passing other arguments without an explicit keyword will result in an error or misinterpretation.\n",
      "  FutureWarning\n"
     ]
    },
    {
     "data": {
      "text/plain": [
       "<AxesSubplot:xlabel='person_trig', ylabel='trig_rise_6h'>"
      ]
     },
     "execution_count": 15,
     "metadata": {},
     "output_type": "execute_result"
    },
    {
     "data": {
      "image/png": "[encoded data removed]",
      "text/plain": [
       "<Figure size 432x288 with 1 Axes>"
      ]
     },
     "metadata": {
      "needs_background": "light"
     },
     "output_type": "display_data"
    }
   ],
   "source": [
    "sns.scatterplot(df_uk.person_trig, df_uk.trig_rise_6h)\n",
    "sns.scatterplot(df_us.person_trig, df_us.trig_rise_6h)"
   ]
  },
  {
   "cell_type": "code",
   "execution_count": 16,
   "metadata": {
    "id": "OLr9bulqXgSD"
   },
   "outputs": [],
   "source": [
    "def plot_val_set(x, y, n):\n",
    "    plt.rcParams.update({'font.size': 15})\n",
    "    fig, ax = plt.subplots(figsize=(5,5))\n",
    "    x_min = np.min(x)\n",
    "    x_max = np.max(x)\n",
    "    y_min = np.min(y)\n",
    "    y_max = np.max(y)\n",
    "    b_min = np.min([x_min, y_min])\n",
    "    b_max = np.max([x_max, y_max])\n",
    "    sns.scatterplot(y=y,\n",
    "                    x=x,\n",
    "                    ax=ax)\n",
    "    ax.set_xlim(b_min, b_max)\n",
    "    ax.set_ylim(b_min, b_max)\n",
    "    ax.plot(np.unique(x), np.poly1d(np.polyfit(x, y, 1))(np.unique(x)))\n",
    "    rval, pval = scipy.stats.pearsonr(x, y)\n",
    "    ax.annotate(f'R = {rval:0.2}', xy=(0.095, 0.9), xycoords='axes fraction')\n",
    "    ax.annotate(f'p = {pval:0.2e}', xy=(0.1, 0.85), xycoords='axes fraction', fontsize=12)\n",
    "    ax.annotate(f'n = {n}', xy=(0.1, 0.8), xycoords='axes fraction', fontsize=12)\n",
    "    ax.yaxis.set_major_locator(MaxNLocator(integer=True))\n",
    "    ax.xaxis.set_major_locator(MaxNLocator(integer=True))\n",
    "    ax.axhline(y=0, color='k', alpha=0.1)\n",
    "    ax.axvline(x=0, color='k', alpha=0.1)"
   ]
  },
  {
   "cell_type": "code",
   "execution_count": 17,
   "metadata": {
    "id": "MVGkNtk1XgSD"
   },
   "outputs": [],
   "source": [
    "def plot_bland_altman(yp, y):\n",
    "\n",
    "    xx = (yp + y)/2\n",
    "    yy =  yp - y\n",
    "\n",
    "    m_th = yy.mean()\n",
    "    u_th = np.quantile(yy, 0.975)\n",
    "    uu_th = yy.std()*1.96\n",
    "\n",
    "    l_th = np.quantile(yy, 0.025)\n",
    "    ll_th = - yy.std()*1.96\n",
    "\n",
    "    plt.rcParams.update({'font.size': 15})\n",
    "    fig, ax = plt.subplots(figsize=(5,5))\n",
    "    sns.scatterplot(y=yy, x=xx, ax=ax)\n",
    "\n",
    "    ax.yaxis.set_major_locator(MaxNLocator(integer=True))\n",
    "    ax.xaxis.set_major_locator(MaxNLocator(integer=True))\n",
    "    ax.axhline(y=uu_th, color='k', alpha=0.25)\n",
    "    ax.axhline(y=m_th, color='k', alpha=1)\n",
    "    ax.axhline(y=ll_th, color='k', alpha=0.25)\n"
   ]
  },
  {
   "cell_type": "markdown",
   "metadata": {
    "id": "yW7tq3fbXgSD"
   },
   "source": [
    "# Trig Prediction"
   ]
  },
  {
   "cell_type": "code",
   "execution_count": 18,
   "metadata": {
    "id": "WX4QjiaOXgSG"
   },
   "outputs": [
    {
     "ename": "KeyError",
     "evalue": "\"Passing list-likes to .loc or [] with any missing labels is no longer supported. The following labels were missing: Index(['mb_pca_0', 'mb_pca_1', 'mb_pca_2', 'mb_pca_3', 'mb_pca_4', 'mb_pca_5',\\n       'mb_pca_6', 'mb_pca_7', 'mb_pca_8', 'mb_pca_9'],\\n      dtype='object'). See https://pandas.pydata.org/pandas-docs/stable/user_guide/indexing.html#deprecate-loc-reindex-listlike\"",
     "output_type": "error",
     "traceback": [
      "\u001b[0;31m---------------------------------------------------------------------------\u001b[0m",
      "\u001b[0;31mKeyError\u001b[0m                                  Traceback (most recent call last)",
      "\u001b[0;32m<ipython-input-18-62e2cfc7193d>\u001b[0m in \u001b[0;36m<module>\u001b[0;34m\u001b[0m\n\u001b[1;32m      4\u001b[0m \u001b[0mfeatures\u001b[0m \u001b[0;34m=\u001b[0m \u001b[0mfeatures_num\u001b[0m \u001b[0;34m+\u001b[0m \u001b[0mfeatures_cat\u001b[0m\u001b[0;34m\u001b[0m\u001b[0;34m\u001b[0m\u001b[0m\n\u001b[1;32m      5\u001b[0m \u001b[0mtarget\u001b[0m \u001b[0;34m=\u001b[0m \u001b[0;34m[\u001b[0m\u001b[0;34m'trig_rise_6h'\u001b[0m\u001b[0;34m]\u001b[0m\u001b[0;34m\u001b[0m\u001b[0;34m\u001b[0m\u001b[0m\n\u001b[0;32m----> 6\u001b[0;31m \u001b[0mdf\u001b[0m \u001b[0;34m=\u001b[0m \u001b[0mdf_uk\u001b[0m\u001b[0;34m.\u001b[0m\u001b[0mreplace\u001b[0m\u001b[0;34m(\u001b[0m\u001b[0;34m[\u001b[0m\u001b[0mnp\u001b[0m\u001b[0;34m.\u001b[0m\u001b[0minf\u001b[0m\u001b[0;34m,\u001b[0m \u001b[0;34m-\u001b[0m\u001b[0mnp\u001b[0m\u001b[0;34m.\u001b[0m\u001b[0minf\u001b[0m\u001b[0;34m]\u001b[0m\u001b[0;34m,\u001b[0m \u001b[0mnp\u001b[0m\u001b[0;34m.\u001b[0m\u001b[0mnan\u001b[0m\u001b[0;34m)\u001b[0m\u001b[0;34m.\u001b[0m\u001b[0mloc\u001b[0m\u001b[0;34m[\u001b[0m\u001b[0;34m:\u001b[0m\u001b[0;34m,\u001b[0m \u001b[0mfeatures\u001b[0m\u001b[0;34m+\u001b[0m\u001b[0mtarget\u001b[0m\u001b[0;34m+\u001b[0m\u001b[0;34m[\u001b[0m\u001b[0;34m'person_username'\u001b[0m\u001b[0;34m]\u001b[0m\u001b[0;34m]\u001b[0m\u001b[0;34m.\u001b[0m\u001b[0mdrop_duplicates\u001b[0m\u001b[0;34m(\u001b[0m\u001b[0;34m)\u001b[0m\u001b[0;34m.\u001b[0m\u001b[0mdropna\u001b[0m\u001b[0;34m(\u001b[0m\u001b[0msubset\u001b[0m\u001b[0;34m=\u001b[0m\u001b[0mtarget\u001b[0m\u001b[0;34m)\u001b[0m\u001b[0;34m\u001b[0m\u001b[0;34m\u001b[0m\u001b[0m\n\u001b[0m\u001b[1;32m      7\u001b[0m \u001b[0mdf_val\u001b[0m \u001b[0;34m=\u001b[0m \u001b[0mdf_us\u001b[0m\u001b[0;34m.\u001b[0m\u001b[0mreplace\u001b[0m\u001b[0;34m(\u001b[0m\u001b[0;34m[\u001b[0m\u001b[0mnp\u001b[0m\u001b[0;34m.\u001b[0m\u001b[0minf\u001b[0m\u001b[0;34m,\u001b[0m \u001b[0;34m-\u001b[0m\u001b[0mnp\u001b[0m\u001b[0;34m.\u001b[0m\u001b[0minf\u001b[0m\u001b[0;34m]\u001b[0m\u001b[0;34m,\u001b[0m \u001b[0mnp\u001b[0m\u001b[0;34m.\u001b[0m\u001b[0mnan\u001b[0m\u001b[0;34m)\u001b[0m\u001b[0;34m.\u001b[0m\u001b[0mloc\u001b[0m\u001b[0;34m[\u001b[0m\u001b[0;34m:\u001b[0m\u001b[0;34m,\u001b[0m \u001b[0mfeatures\u001b[0m\u001b[0;34m+\u001b[0m\u001b[0mtarget\u001b[0m\u001b[0;34m+\u001b[0m\u001b[0;34m[\u001b[0m\u001b[0;34m'person_username'\u001b[0m\u001b[0;34m]\u001b[0m\u001b[0;34m]\u001b[0m\u001b[0;34m.\u001b[0m\u001b[0mdrop_duplicates\u001b[0m\u001b[0;34m(\u001b[0m\u001b[0;34m)\u001b[0m\u001b[0;34m.\u001b[0m\u001b[0mdropna\u001b[0m\u001b[0;34m(\u001b[0m\u001b[0msubset\u001b[0m\u001b[0;34m=\u001b[0m\u001b[0mtarget\u001b[0m\u001b[0;34m)\u001b[0m\u001b[0;34m\u001b[0m\u001b[0;34m\u001b[0m\u001b[0m\n\u001b[1;32m      8\u001b[0m \u001b[0mprint\u001b[0m\u001b[0;34m(\u001b[0m\u001b[0;34m'In UK:'\u001b[0m\u001b[0;34m,\u001b[0m \u001b[0mlen\u001b[0m\u001b[0;34m(\u001b[0m\u001b[0mdf\u001b[0m\u001b[0;34m)\u001b[0m\u001b[0;34m)\u001b[0m\u001b[0;34m\u001b[0m\u001b[0;34m\u001b[0m\u001b[0m\n",
      "\u001b[0;32m~/.local/lib/python3.6/site-packages/pandas/core/indexing.py\u001b[0m in \u001b[0;36m__getitem__\u001b[0;34m(self, key)\u001b[0m\n\u001b[1;32m    871\u001b[0m                     \u001b[0;31m# AttributeError for IntervalTree get_value\u001b[0m\u001b[0;34m\u001b[0m\u001b[0;34m\u001b[0m\u001b[0;34m\u001b[0m\u001b[0m\n\u001b[1;32m    872\u001b[0m                     \u001b[0;32mpass\u001b[0m\u001b[0;34m\u001b[0m\u001b[0;34m\u001b[0m\u001b[0m\n\u001b[0;32m--> 873\u001b[0;31m             \u001b[0;32mreturn\u001b[0m \u001b[0mself\u001b[0m\u001b[0;34m.\u001b[0m\u001b[0m_getitem_tuple\u001b[0m\u001b[0;34m(\u001b[0m\u001b[0mkey\u001b[0m\u001b[0;34m)\u001b[0m\u001b[0;34m\u001b[0m\u001b[0;34m\u001b[0m\u001b[0m\n\u001b[0m\u001b[1;32m    874\u001b[0m         \u001b[0;32melse\u001b[0m\u001b[0;34m:\u001b[0m\u001b[0;34m\u001b[0m\u001b[0;34m\u001b[0m\u001b[0m\n\u001b[1;32m    875\u001b[0m             \u001b[0;31m# we by definition only have the 0th axis\u001b[0m\u001b[0;34m\u001b[0m\u001b[0;34m\u001b[0m\u001b[0;34m\u001b[0m\u001b[0m\n",
      "\u001b[0;32m~/.local/lib/python3.6/site-packages/pandas/core/indexing.py\u001b[0m in \u001b[0;36m_getitem_tuple\u001b[0;34m(self, tup)\u001b[0m\n\u001b[1;32m   1053\u001b[0m             \u001b[0;32mreturn\u001b[0m \u001b[0mself\u001b[0m\u001b[0;34m.\u001b[0m\u001b[0m_multi_take\u001b[0m\u001b[0;34m(\u001b[0m\u001b[0mtup\u001b[0m\u001b[0;34m)\u001b[0m\u001b[0;34m\u001b[0m\u001b[0;34m\u001b[0m\u001b[0m\n\u001b[1;32m   1054\u001b[0m \u001b[0;34m\u001b[0m\u001b[0m\n\u001b[0;32m-> 1055\u001b[0;31m         \u001b[0;32mreturn\u001b[0m \u001b[0mself\u001b[0m\u001b[0;34m.\u001b[0m\u001b[0m_getitem_tuple_same_dim\u001b[0m\u001b[0;34m(\u001b[0m\u001b[0mtup\u001b[0m\u001b[0;34m)\u001b[0m\u001b[0;34m\u001b[0m\u001b[0;34m\u001b[0m\u001b[0m\n\u001b[0m\u001b[1;32m   1056\u001b[0m \u001b[0;34m\u001b[0m\u001b[0m\n\u001b[1;32m   1057\u001b[0m     \u001b[0;32mdef\u001b[0m \u001b[0m_get_label\u001b[0m\u001b[0;34m(\u001b[0m\u001b[0mself\u001b[0m\u001b[0;34m,\u001b[0m \u001b[0mlabel\u001b[0m\u001b[0;34m,\u001b[0m \u001b[0maxis\u001b[0m\u001b[0;34m:\u001b[0m \u001b[0mint\u001b[0m\u001b[0;34m)\u001b[0m\u001b[0;34m:\u001b[0m\u001b[0;34m\u001b[0m\u001b[0;34m\u001b[0m\u001b[0m\n",
      "\u001b[0;32m~/.local/lib/python3.6/site-packages/pandas/core/indexing.py\u001b[0m in \u001b[0;36m_getitem_tuple_same_dim\u001b[0;34m(self, tup)\u001b[0m\n\u001b[1;32m    748\u001b[0m                 \u001b[0;32mcontinue\u001b[0m\u001b[0;34m\u001b[0m\u001b[0;34m\u001b[0m\u001b[0m\n\u001b[1;32m    749\u001b[0m \u001b[0;34m\u001b[0m\u001b[0m\n\u001b[0;32m--> 750\u001b[0;31m             \u001b[0mretval\u001b[0m \u001b[0;34m=\u001b[0m \u001b[0mgetattr\u001b[0m\u001b[0;34m(\u001b[0m\u001b[0mretval\u001b[0m\u001b[0;34m,\u001b[0m \u001b[0mself\u001b[0m\u001b[0;34m.\u001b[0m\u001b[0mname\u001b[0m\u001b[0;34m)\u001b[0m\u001b[0;34m.\u001b[0m\u001b[0m_getitem_axis\u001b[0m\u001b[0;34m(\u001b[0m\u001b[0mkey\u001b[0m\u001b[0;34m,\u001b[0m \u001b[0maxis\u001b[0m\u001b[0;34m=\u001b[0m\u001b[0mi\u001b[0m\u001b[0;34m)\u001b[0m\u001b[0;34m\u001b[0m\u001b[0;34m\u001b[0m\u001b[0m\n\u001b[0m\u001b[1;32m    751\u001b[0m             \u001b[0;31m# We should never have retval.ndim < self.ndim, as that should\u001b[0m\u001b[0;34m\u001b[0m\u001b[0;34m\u001b[0m\u001b[0;34m\u001b[0m\u001b[0m\n\u001b[1;32m    752\u001b[0m             \u001b[0;31m#  be handled by the _getitem_lowerdim call above.\u001b[0m\u001b[0;34m\u001b[0m\u001b[0;34m\u001b[0m\u001b[0;34m\u001b[0m\u001b[0m\n",
      "\u001b[0;32m~/.local/lib/python3.6/site-packages/pandas/core/indexing.py\u001b[0m in \u001b[0;36m_getitem_axis\u001b[0;34m(self, key, axis)\u001b[0m\n\u001b[1;32m   1097\u001b[0m                     \u001b[0;32mraise\u001b[0m \u001b[0mValueError\u001b[0m\u001b[0;34m(\u001b[0m\u001b[0;34m\"Cannot index with multidimensional key\"\u001b[0m\u001b[0;34m)\u001b[0m\u001b[0;34m\u001b[0m\u001b[0;34m\u001b[0m\u001b[0m\n\u001b[1;32m   1098\u001b[0m \u001b[0;34m\u001b[0m\u001b[0m\n\u001b[0;32m-> 1099\u001b[0;31m                 \u001b[0;32mreturn\u001b[0m \u001b[0mself\u001b[0m\u001b[0;34m.\u001b[0m\u001b[0m_getitem_iterable\u001b[0m\u001b[0;34m(\u001b[0m\u001b[0mkey\u001b[0m\u001b[0;34m,\u001b[0m \u001b[0maxis\u001b[0m\u001b[0;34m=\u001b[0m\u001b[0maxis\u001b[0m\u001b[0;34m)\u001b[0m\u001b[0;34m\u001b[0m\u001b[0;34m\u001b[0m\u001b[0m\n\u001b[0m\u001b[1;32m   1100\u001b[0m \u001b[0;34m\u001b[0m\u001b[0m\n\u001b[1;32m   1101\u001b[0m             \u001b[0;31m# nested tuple slicing\u001b[0m\u001b[0;34m\u001b[0m\u001b[0;34m\u001b[0m\u001b[0;34m\u001b[0m\u001b[0m\n",
      "\u001b[0;32m~/.local/lib/python3.6/site-packages/pandas/core/indexing.py\u001b[0m in \u001b[0;36m_getitem_iterable\u001b[0;34m(self, key, axis)\u001b[0m\n\u001b[1;32m   1035\u001b[0m \u001b[0;34m\u001b[0m\u001b[0m\n\u001b[1;32m   1036\u001b[0m         \u001b[0;31m# A collection of keys\u001b[0m\u001b[0;34m\u001b[0m\u001b[0;34m\u001b[0m\u001b[0;34m\u001b[0m\u001b[0m\n\u001b[0;32m-> 1037\u001b[0;31m         \u001b[0mkeyarr\u001b[0m\u001b[0;34m,\u001b[0m \u001b[0mindexer\u001b[0m \u001b[0;34m=\u001b[0m \u001b[0mself\u001b[0m\u001b[0;34m.\u001b[0m\u001b[0m_get_listlike_indexer\u001b[0m\u001b[0;34m(\u001b[0m\u001b[0mkey\u001b[0m\u001b[0;34m,\u001b[0m \u001b[0maxis\u001b[0m\u001b[0;34m,\u001b[0m \u001b[0mraise_missing\u001b[0m\u001b[0;34m=\u001b[0m\u001b[0;32mFalse\u001b[0m\u001b[0;34m)\u001b[0m\u001b[0;34m\u001b[0m\u001b[0;34m\u001b[0m\u001b[0m\n\u001b[0m\u001b[1;32m   1038\u001b[0m         return self.obj._reindex_with_indexers(\n\u001b[1;32m   1039\u001b[0m             \u001b[0;34m{\u001b[0m\u001b[0maxis\u001b[0m\u001b[0;34m:\u001b[0m \u001b[0;34m[\u001b[0m\u001b[0mkeyarr\u001b[0m\u001b[0;34m,\u001b[0m \u001b[0mindexer\u001b[0m\u001b[0;34m]\u001b[0m\u001b[0;34m}\u001b[0m\u001b[0;34m,\u001b[0m \u001b[0mcopy\u001b[0m\u001b[0;34m=\u001b[0m\u001b[0;32mTrue\u001b[0m\u001b[0;34m,\u001b[0m \u001b[0mallow_dups\u001b[0m\u001b[0;34m=\u001b[0m\u001b[0;32mTrue\u001b[0m\u001b[0;34m\u001b[0m\u001b[0;34m\u001b[0m\u001b[0m\n",
      "\u001b[0;32m~/.local/lib/python3.6/site-packages/pandas/core/indexing.py\u001b[0m in \u001b[0;36m_get_listlike_indexer\u001b[0;34m(self, key, axis, raise_missing)\u001b[0m\n\u001b[1;32m   1252\u001b[0m             \u001b[0mkeyarr\u001b[0m\u001b[0;34m,\u001b[0m \u001b[0mindexer\u001b[0m\u001b[0;34m,\u001b[0m \u001b[0mnew_indexer\u001b[0m \u001b[0;34m=\u001b[0m \u001b[0max\u001b[0m\u001b[0;34m.\u001b[0m\u001b[0m_reindex_non_unique\u001b[0m\u001b[0;34m(\u001b[0m\u001b[0mkeyarr\u001b[0m\u001b[0;34m)\u001b[0m\u001b[0;34m\u001b[0m\u001b[0;34m\u001b[0m\u001b[0m\n\u001b[1;32m   1253\u001b[0m \u001b[0;34m\u001b[0m\u001b[0m\n\u001b[0;32m-> 1254\u001b[0;31m         \u001b[0mself\u001b[0m\u001b[0;34m.\u001b[0m\u001b[0m_validate_read_indexer\u001b[0m\u001b[0;34m(\u001b[0m\u001b[0mkeyarr\u001b[0m\u001b[0;34m,\u001b[0m \u001b[0mindexer\u001b[0m\u001b[0;34m,\u001b[0m \u001b[0maxis\u001b[0m\u001b[0;34m,\u001b[0m \u001b[0mraise_missing\u001b[0m\u001b[0;34m=\u001b[0m\u001b[0mraise_missing\u001b[0m\u001b[0;34m)\u001b[0m\u001b[0;34m\u001b[0m\u001b[0;34m\u001b[0m\u001b[0m\n\u001b[0m\u001b[1;32m   1255\u001b[0m         \u001b[0;32mreturn\u001b[0m \u001b[0mkeyarr\u001b[0m\u001b[0;34m,\u001b[0m \u001b[0mindexer\u001b[0m\u001b[0;34m\u001b[0m\u001b[0;34m\u001b[0m\u001b[0m\n\u001b[1;32m   1256\u001b[0m \u001b[0;34m\u001b[0m\u001b[0m\n",
      "\u001b[0;32m~/.local/lib/python3.6/site-packages/pandas/core/indexing.py\u001b[0m in \u001b[0;36m_validate_read_indexer\u001b[0;34m(self, key, indexer, axis, raise_missing)\u001b[0m\n\u001b[1;32m   1314\u001b[0m                 \u001b[0;32mwith\u001b[0m \u001b[0moption_context\u001b[0m\u001b[0;34m(\u001b[0m\u001b[0;34m\"display.max_seq_items\"\u001b[0m\u001b[0;34m,\u001b[0m \u001b[0;36m10\u001b[0m\u001b[0;34m,\u001b[0m \u001b[0;34m\"display.width\"\u001b[0m\u001b[0;34m,\u001b[0m \u001b[0;36m80\u001b[0m\u001b[0;34m)\u001b[0m\u001b[0;34m:\u001b[0m\u001b[0;34m\u001b[0m\u001b[0;34m\u001b[0m\u001b[0m\n\u001b[1;32m   1315\u001b[0m                     raise KeyError(\n\u001b[0;32m-> 1316\u001b[0;31m                         \u001b[0;34m\"Passing list-likes to .loc or [] with any missing labels \"\u001b[0m\u001b[0;34m\u001b[0m\u001b[0;34m\u001b[0m\u001b[0m\n\u001b[0m\u001b[1;32m   1317\u001b[0m                         \u001b[0;34m\"is no longer supported. \"\u001b[0m\u001b[0;34m\u001b[0m\u001b[0;34m\u001b[0m\u001b[0m\n\u001b[1;32m   1318\u001b[0m                         \u001b[0;34mf\"The following labels were missing: {not_found}. \"\u001b[0m\u001b[0;34m\u001b[0m\u001b[0;34m\u001b[0m\u001b[0m\n",
      "\u001b[0;31mKeyError\u001b[0m: \"Passing list-likes to .loc or [] with any missing labels is no longer supported. The following labels were missing: Index(['mb_pca_0', 'mb_pca_1', 'mb_pca_2', 'mb_pca_3', 'mb_pca_4', 'mb_pca_5',\\n       'mb_pca_6', 'mb_pca_7', 'mb_pca_8', 'mb_pca_9'],\\n      dtype='object'). See https://pandas.pydata.org/pandas-docs/stable/user_guide/indexing.html#deprecate-loc-reindex-listlike\""
     ]
    }
   ],
   "source": [
    "# getting the necessary features\n",
    "features_num = ANTHROPOMETRY + CLINICAL_BIOCHEMESTRY + AGE + list(pcadf.columns.values)\n",
    "features_cat = SEX\n",
    "features = features_num + features_cat\n",
    "target = ['trig_rise_6h']\n",
    "df = df_uk.replace([np.inf, -np.inf], np.nan).loc[:, features+target+['person_username']].drop_duplicates().dropna(subset=target)\n",
    "df_val = df_us.replace([np.inf, -np.inf], np.nan).loc[:, features+target+['person_username']].drop_duplicates().dropna(subset=target)\n",
    "print('In UK:', len(df))\n",
    "print('In US:', len(df_val))\n",
    "print('In UK:', len(df.person_username.unique()))\n",
    "print('In US:', len(df_val.person_username.unique()))"
   ]
  },
  {
   "cell_type": "code",
   "execution_count": null,
   "metadata": {
    "id": "3MDZNMUvXgSH"
   },
   "outputs": [],
   "source": [
    "preprop_num = [('imputer', SimpleImputer(strategy='mean')),\n",
    "              ]\n",
    "preprop_cat = [('encode', OneHotEncoder())]\n",
    "pipe = [('preprocess', ColumnTransformer(transformers=[('num', Pipeline(preprop_num), features_num),\n",
    "                                                       ('cat', Pipeline(preprop_cat), features_cat)])),\n",
    "        ('regression', RandomForestRegressor(n_jobs=-1, n_estimators=1000, random_state=RANDOM))]"
   ]
  },
  {
   "cell_type": "code",
   "execution_count": null,
   "metadata": {
    "id": "TquscKzOXgSI"
   },
   "outputs": [],
   "source": [
    "model1 = Pipeline(pipe)"
   ]
  },
  {
   "cell_type": "code",
   "execution_count": null,
   "metadata": {
    "id": "6qRgfdYdXgSJ"
   },
   "outputs": [],
   "source": [
    "loo = LeaveOneOut()\n",
    "\n",
    "scores = []\n",
    "y = []\n",
    "yp = []\n",
    "\n",
    "for train_index, test_index in loo.split(df):\n",
    "    model1.fit(df.loc[:, features].iloc[train_index, :],\n",
    "               df.loc[:, target].iloc[train_index, :].values.ravel())\n",
    "    y.append(df.loc[:, target].iloc[test_index, :].values.ravel())\n",
    "    yp.append(model1.predict(df.loc[:, features].iloc[test_index, :]))\n",
    "\n",
    "y = np.concatenate(y)\n",
    "yp = np.concatenate(yp)"
   ]
  },
  {
   "cell_type": "code",
   "execution_count": null,
   "metadata": {
    "id": "ffFxPzuJXgSJ"
   },
   "outputs": [],
   "source": [
    "print('Leave-one-out Pearson R: {} p-val: {}'.format(*scipy.stats.pearsonr(y,yp)))"
   ]
  },
  {
   "cell_type": "code",
   "execution_count": null,
   "metadata": {
    "id": "UVpoiB-kXgSK"
   },
   "outputs": [],
   "source": [
    "kf = KFold(n_splits=5, random_state=RANDOM, shuffle=True)\n",
    "\n",
    "scores = []\n",
    "y = []\n",
    "yp = []\n",
    "for train_index, test_index in kf.split(df):\n",
    "    model1.fit(df.loc[:, features].iloc[train_index, :],\n",
    "               df.loc[:, target].iloc[train_index, :].values.ravel())\n",
    "    scores.append(pearsonr_scorer(model1,\n",
    "                                  df.loc[:, features].iloc[test_index, :],\n",
    "                                  df.loc[:, target].iloc[test_index, :].values.ravel()))\n",
    "    y.append(df.loc[:, target].iloc[test_index, :].values.ravel())\n",
    "    yp.append(model1.predict(df.loc[:, features].iloc[test_index, :]))\n",
    "y=np.concatenate(y)\n",
    "yp=np.concatenate(yp)\n",
    "scores"
   ]
  },
  {
   "cell_type": "code",
   "execution_count": null,
   "metadata": {
    "id": "KhJSEVOUXgSK"
   },
   "outputs": [],
   "source": [
    "print('mean:', np.mean(scores))\n",
    "print('std:', np.std(scores))"
   ]
  },
  {
   "cell_type": "code",
   "execution_count": null,
   "metadata": {
    "id": "VIlDRCiHXgSK"
   },
   "outputs": [],
   "source": [
    "plot_val_set(y, yp, len(df.person_username.unique()))\n",
    "plt.ylabel('$\\mathregular{Predicted\\ TG_{6h-rise}}$')\n",
    "plt.xlabel('$\\mathregular{Measured\\ TG_{6h-rise}}$')\n",
    "plt.title('UK')\n",
    "plt.savefig('4al.svg', format='svg', bbox_inches='tight')"
   ]
  },
  {
   "cell_type": "code",
   "execution_count": null,
   "metadata": {
    "id": "xqyxpeJNXgSK"
   },
   "outputs": [],
   "source": [
    "plot_bland_altman(yp, y)\n",
    "plt.ylabel('$Diff(\\mathregular{Pred},\\mathregular{Meas}) \\; TG_{6h-rise}$')\n",
    "plt.xlabel('$Avg(\\mathregular{Pred}, \\mathregular{Meas}) \\; TG_{6h-rise}$')\n",
    "plt.title('UK')"
   ]
  },
  {
   "cell_type": "code",
   "execution_count": null,
   "metadata": {
    "id": "Hd8ZQOlfXgSK"
   },
   "outputs": [],
   "source": [
    "model1.fit(df.loc[:, features],\n",
    "          df.loc[:, target].values.ravel())\n",
    "pearsonr_scorer(model1,\n",
    "                df_val.loc[:, features],\n",
    "                df_val.loc[:, target].values.ravel())"
   ]
  },
  {
   "cell_type": "code",
   "execution_count": null,
   "metadata": {
    "id": "ST0t5b5rXgSL"
   },
   "outputs": [],
   "source": [
    "bscore(model1,\n",
    "       df_val.loc[:, features],\n",
    "       df_val.loc[:, target].values.ravel())"
   ]
  },
  {
   "cell_type": "code",
   "execution_count": null,
   "metadata": {
    "id": "ee6RRQxGXgSL"
   },
   "outputs": [],
   "source": [
    "x = df_val.loc[:, target].values.ravel()\n",
    "y = model1.predict(df_val.loc[:, features])\n",
    "plot_val_set(x, y, len(df_val.person_username.unique()))\n",
    "plt.ylabel('$\\mathregular{Predicted\\ TG_{6h-rise}}$')\n",
    "plt.xlabel('$\\mathregular{Measured\\ TG_{6h-rise}}$')\n",
    "plt.title(f'US')\n",
    "plt.savefig('4ar.svg', format='svg', bbox_inches='tight')"
   ]
  },
  {
   "cell_type": "code",
   "execution_count": null,
   "metadata": {
    "id": "cYJfw5bwXgSL"
   },
   "outputs": [],
   "source": [
    "plot_bland_altman(y, x)\n",
    "plt.ylabel('$Diff(\\mathregular{Pred},\\mathregular{Meas}) \\; TG_{6h-rise}$')\n",
    "plt.xlabel('$Avg(\\mathregular{Pred}, \\mathregular{Meas}) \\; TG_{6h-rise}$')\n",
    "plt.title(f'US')"
   ]
  },
  {
   "cell_type": "markdown",
   "metadata": {
    "id": "SvYip7R2XgSL"
   },
   "source": [
    "# CPEP Prediction"
   ]
  },
  {
   "cell_type": "code",
   "execution_count": null,
   "metadata": {
    "id": "Lt4VlAyEXgSM"
   },
   "outputs": [],
   "source": [
    "# getting the necessary features\n",
    "features_num = ANTHROPOMETRY + CLINICAL_BIOCHEMESTRY + AGE + list(pcadf.columns.values)\n",
    "features_cat = SEX\n",
    "features = features_num + features_cat\n",
    "target = ['cpep_rise_1h']\n",
    "df = df_uk.replace([np.inf, -np.inf], np.nan).loc[:, features+target+['person_username']].drop_duplicates().dropna(subset=target)\n",
    "df_val = df_us.replace([np.inf, -np.inf], np.nan).loc[:, features+target+['person_username']].drop_duplicates().dropna(subset=target)\n",
    "print('In UK:', len(df))\n",
    "print('In US:', len(df_val))\n",
    "print('In UK:', len(df.person_username.unique()))\n",
    "print('In US:', len(df_val.person_username.unique()))"
   ]
  },
  {
   "cell_type": "code",
   "execution_count": null,
   "metadata": {
    "id": "20cdiJxlXgSM"
   },
   "outputs": [],
   "source": [
    "preprop_num = [('imputer', SimpleImputer(strategy='mean')),\n",
    "              ]\n",
    "preprop_cat = [('encode', OneHotEncoder())]\n",
    "pipe = [('preprocess', ColumnTransformer(transformers=[('num', Pipeline(preprop_num), features_num),\n",
    "                                                       ('cat', Pipeline(preprop_cat), features_cat)])),\n",
    "        ('regression', RandomForestRegressor(n_jobs=-1, n_estimators=1000, random_state=RANDOM))]"
   ]
  },
  {
   "cell_type": "code",
   "execution_count": null,
   "metadata": {
    "id": "yj3931PeXgSM"
   },
   "outputs": [],
   "source": [
    "model2 = Pipeline(pipe)"
   ]
  },
  {
   "cell_type": "code",
   "execution_count": null,
   "metadata": {
    "id": "HFswtL2FXgSM"
   },
   "outputs": [],
   "source": [
    "loo = LeaveOneOut()\n",
    "y = []\n",
    "yp = []\n",
    "for train_index, test_index in loo.split(df):\n",
    "    model2.fit(df.loc[:, features].iloc[train_index, :],\n",
    "               df.loc[:, target].iloc[train_index, :].values.ravel())\n",
    "    y.append(df.loc[:, target].iloc[test_index, :].values.ravel())\n",
    "    yp.append(model2.predict(df.loc[:, features].iloc[test_index, :]))\n",
    "y=np.concatenate(y)\n",
    "yp=np.concatenate(yp)"
   ]
  },
  {
   "cell_type": "code",
   "execution_count": null,
   "metadata": {
    "id": "nKDyrjgUXgSM"
   },
   "outputs": [],
   "source": [
    "print('Leave-one-out Pearson R: {} p-val: {}'.format(*scipy.stats.pearsonr(y,yp)))"
   ]
  },
  {
   "cell_type": "code",
   "execution_count": null,
   "metadata": {
    "id": "Xr7LA_iEXgSN",
    "scrolled": true
   },
   "outputs": [],
   "source": [
    "kf = KFold(n_splits=5, random_state=RANDOM, shuffle=True)\n",
    "scores = []\n",
    "y = []\n",
    "yp = []\n",
    "for train_index, test_index in kf.split(df):\n",
    "    model2.fit(df.loc[:, features].iloc[train_index, :],\n",
    "               df.loc[:, target].iloc[train_index, :].values.ravel())\n",
    "    scores.append(pearsonr_scorer(model2,\n",
    "                                  df.loc[:, features].iloc[test_index, :],\n",
    "                                  df.loc[:, target].iloc[test_index, :].values.ravel()))\n",
    "    y.append(df.loc[:, target].iloc[test_index, :].values.ravel())\n",
    "    yp.append(model2.predict(df.loc[:, features].iloc[test_index, :]))\n",
    "y=np.concatenate(y)\n",
    "yp=np.concatenate(yp)\n",
    "scores"
   ]
  },
  {
   "cell_type": "code",
   "execution_count": null,
   "metadata": {
    "id": "nYktVAKGXgSN"
   },
   "outputs": [],
   "source": [
    "print('mean:', np.mean(scores))\n",
    "print('std:', np.std(scores))"
   ]
  },
  {
   "cell_type": "code",
   "execution_count": null,
   "metadata": {
    "id": "M8m9ELiZXgSO"
   },
   "outputs": [],
   "source": [
    "plot_val_set(y, yp, len(df.person_username.unique()))\n",
    "plt.ylabel('$\\mathregular{Predicted\\ C-peptide_{1h-rise}}$')\n",
    "plt.xlabel('$\\mathregular{Measured\\ C-peptide_{1h-rise}}$')\n",
    "plt.title(f'UK')\n",
    "plt.savefig('4cl.svg', format='svg', bbox_inches='tight')"
   ]
  },
  {
   "cell_type": "code",
   "execution_count": null,
   "metadata": {
    "id": "FPRAhZ5pXgSO"
   },
   "outputs": [],
   "source": [
    "plot_bland_altman(yp, y)\n",
    "plt.ylabel('$Diff(\\mathregular{Pred},\\mathregular{Meas}) \\; C-pep_{1h-rise}}$')\n",
    "plt.xlabel('$Avg(\\mathregular{Pred}, \\mathregular{Meas}) \\; C-pep_{1h-rise}}$')\n",
    "plt.title('UK')"
   ]
  },
  {
   "cell_type": "code",
   "execution_count": null,
   "metadata": {
    "id": "iLrB_LtbXgSU"
   },
   "outputs": [],
   "source": [
    "model2.fit(df.loc[:, features],\n",
    "          df.loc[:, target].values.ravel())\n",
    "pearsonr_scorer(model2,\n",
    "                df_val.loc[:, features],\n",
    "                df_val.loc[:, target].values.ravel())"
   ]
  },
  {
   "cell_type": "code",
   "execution_count": null,
   "metadata": {
    "id": "kSRHUVeHXgSV"
   },
   "outputs": [],
   "source": [
    "bscore(model2,\n",
    "       df_val.loc[:, features],\n",
    "       df_val.loc[:, target].values.ravel())"
   ]
  },
  {
   "cell_type": "code",
   "execution_count": null,
   "metadata": {
    "id": "k5Fg1zcgXgSV"
   },
   "outputs": [],
   "source": [
    "x = df_val.loc[:, target].values.ravel()\n",
    "y = model2.predict(df_val.loc[:, features])\n",
    "plot_val_set(x, y, len(df_val.person_username.unique()))\n",
    "plt.ylabel('$\\mathregular{Predicted\\ C-peptide_{1h-rise}}$')\n",
    "plt.xlabel('$\\mathregular{Measured\\ C-peptide_{1h-rise}}$')\n",
    "plt.title(f'US')\n",
    "plt.savefig('4cr.svg', format='svg', bbox_inches='tight')"
   ]
  },
  {
   "cell_type": "code",
   "execution_count": null,
   "metadata": {
    "id": "sNubTtKWXgSW"
   },
   "outputs": [],
   "source": [
    "plot_bland_altman(y, x)\n",
    "plt.ylabel('$Diff(\\mathregular{Pred},\\mathregular{Meas}) \\; C-pep_{1h-rise}}$')\n",
    "plt.xlabel('$Avg(\\mathregular{Pred}, \\mathregular{Meas}) \\; C-pep_{1h-rise}}$')\n",
    "plt.title(f'US')"
   ]
  },
  {
   "cell_type": "markdown",
   "metadata": {
    "id": "AxIOOLclXgSW"
   },
   "source": [
    "# GLU Prediction"
   ]
  },
  {
   "cell_type": "code",
   "execution_count": null,
   "metadata": {
    "id": "lScbWjoeXgSW"
   },
   "outputs": [],
   "source": [
    "# function to add calibration meals\n",
    "def add_cal_meal(df_in):\n",
    "    def add_ogtt(df):\n",
    "        avg_ogtt = df[df.meal_set_meal.isin(['Meal CC'])].meal_iauc.mean()\n",
    "        dfr = df[~df.meal_set_meal.isin(['Meal CC'])]\n",
    "        dfr['cal_iauc'] = avg_ogtt\n",
    "        return dfr\n",
    "    return df_in.groupby('person_username').apply(add_ogtt)"
   ]
  },
  {
   "cell_type": "code",
   "execution_count": null,
   "metadata": {
    "id": "_tBqLCtFXgSW"
   },
   "outputs": [],
   "source": [
    "# getting the necessary features\n",
    "features_num = ANTHROPOMETRY + CLINICAL_BIOCHEMESTRY + AGE + MEAL_CONTEXT + MEAL_CONTENT  + list(pcadf.columns.values)\n",
    "features_cat = SEX\n",
    "features = features_num + features_cat\n",
    "target = ['meal_iauc']\n",
    "# using only set meals\n",
    "dfc_uk = add_cal_meal(df_uk)\n",
    "dfc_us = add_cal_meal(df_us)\n",
    "df = dfc_uk[dfc_uk.meal_has_set_meal].replace([np.inf, -np.inf], np.nan).loc[:, features+target+['cal_iauc', 'person_username']].drop_duplicates().dropna(subset=target)\n",
    "df_val = dfc_us[dfc_us.meal_has_set_meal].replace([np.inf, -np.inf], np.nan).loc[:, features+target+['cal_iauc', 'person_username']].drop_duplicates().dropna(subset=target)\n",
    "print('In UK:', len(df))\n",
    "print('In US:', len(df_val))\n",
    "print('In UK:', len(df.person_username.unique()))\n",
    "print('In US:', len(df_val.person_username.unique()))"
   ]
  },
  {
   "cell_type": "code",
   "execution_count": null,
   "metadata": {
    "id": "w9UfuiBYXgSX"
   },
   "outputs": [],
   "source": [
    "preprop_num = [('imputer', SimpleImputer(strategy='mean')),\n",
    "              ]\n",
    "preprop_cat = [('encode', OneHotEncoder())]\n",
    "pipe = [('preprocess', ColumnTransformer(transformers=[('num', Pipeline(preprop_num), features_num+['cal_iauc']),\n",
    "                                                       ('cat', Pipeline(preprop_cat), features_cat)])),\n",
    "        ('regression', RandomForestRegressor(n_jobs=-1, n_estimators=100, random_state=RANDOM))]\n",
    "        #('regression', LinearRegression())]"
   ]
  },
  {
   "cell_type": "code",
   "execution_count": null,
   "metadata": {
    "id": "VwM01HoQXgSX"
   },
   "outputs": [],
   "source": [
    "model3 = Pipeline(pipe)"
   ]
  },
  {
   "cell_type": "code",
   "execution_count": null,
   "metadata": {
    "id": "7_gHAUAtXgSX"
   },
   "outputs": [],
   "source": [
    "loo = LeaveOneGroupOut().split(df.loc[:, 'person_username'], groups=df.loc[:, 'person_username'])\n",
    "scores = []\n",
    "y = []\n",
    "yp = []\n",
    "for train_index, test_index in loo:\n",
    "    model3.fit(df.loc[:, features+['cal_iauc']].iloc[train_index, :],\n",
    "               df.loc[:, target].iloc[train_index, :].values.ravel())\n",
    "    y.append(df.loc[:, target].iloc[test_index, :].values.ravel())\n",
    "    yp.append(model3.predict(df.loc[:, features+['cal_iauc']].iloc[test_index, :]))\n",
    "y=np.concatenate(y)\n",
    "yp=np.concatenate(yp)"
   ]
  },
  {
   "cell_type": "code",
   "execution_count": null,
   "metadata": {
    "id": "GGpDRlQdXgSX"
   },
   "outputs": [],
   "source": [
    "print('Leave-one-out Pearson R: {} p-val: {}'.format(*scipy.stats.pearsonr(y,yp)))"
   ]
  },
  {
   "cell_type": "code",
   "execution_count": null,
   "metadata": {
    "id": "WLDsrjaMXgSY"
   },
   "outputs": [],
   "source": [
    "kf = GroupKFold(n_splits=5).split(df.loc[:, 'person_username'], groups=df.loc[:, 'person_username'])\n",
    "scores = []\n",
    "y = []\n",
    "yp = []\n",
    "for train_index, test_index in kf:\n",
    "    model3.fit(df.loc[:, features+['cal_iauc']].iloc[train_index, :],\n",
    "               df.loc[:, target].iloc[train_index, :].values.ravel())\n",
    "    scores.append(pearsonr_scorer(model3,\n",
    "                                  df.loc[:, features+['cal_iauc']].iloc[test_index, :],\n",
    "                                  df.loc[:, target].iloc[test_index, :].values.ravel()))\n",
    "    y.append(df.loc[:, target].iloc[test_index, :].values.ravel())\n",
    "    yp.append(model3.predict(df.loc[:, features+['cal_iauc']].iloc[test_index, :]))\n",
    "y=np.concatenate(y)\n",
    "yp=np.concatenate(yp)\n",
    "scores"
   ]
  },
  {
   "cell_type": "code",
   "execution_count": null,
   "metadata": {
    "id": "Ho7tjOBeXgSY"
   },
   "outputs": [],
   "source": []
  },
  {
   "cell_type": "code",
   "execution_count": null,
   "metadata": {
    "id": "XKP6-FJOXgSY"
   },
   "outputs": [],
   "source": [
    "print('mean:', np.mean(scores))\n",
    "print('std:', np.std(scores))"
   ]
  },
  {
   "cell_type": "code",
   "execution_count": null,
   "metadata": {
    "id": "kWmUfpQ3XgSY"
   },
   "outputs": [],
   "source": [
    "plot_val_set(y, yp, len(df.person_username.unique()))\n",
    "plt.ylabel('$\\mathregular{Predicted\\ glucose{iAUC\\ 0-2h}}$')\n",
    "plt.xlabel('$\\mathregular{Measured\\ glucose_{iAUC\\ 0-2h}}$')\n",
    "plt.title(f'UK')\n",
    "plt.xticks(rotation=90)\n",
    "plt.savefig('4bl.svg', format='svg', bbox_inches='tight')"
   ]
  },
  {
   "cell_type": "code",
   "execution_count": null,
   "metadata": {
    "id": "b9bK14AhXgSZ"
   },
   "outputs": [],
   "source": [
    "plot_bland_altman(yp, y)\n",
    "plt.ylabel('$Diff(\\mathregular{Pred},\\mathregular{Meas}) \\; glu_{iAUC\\ 0-2h}}$')\n",
    "plt.xlabel('$Avg(\\mathregular{Pred}, \\mathregular{Meas}) \\; glu_{iAUC\\ 0-2h}}$')\n",
    "plt.title(f'UK')\n",
    "plt.xticks(rotation=90)\n",
    "plt.show()"
   ]
  },
  {
   "cell_type": "code",
   "execution_count": null,
   "metadata": {
    "id": "C5fjPRoIXgSZ"
   },
   "outputs": [],
   "source": []
  },
  {
   "cell_type": "code",
   "execution_count": null,
   "metadata": {
    "id": "cJxMMRwTXgSZ"
   },
   "outputs": [],
   "source": [
    "model3.fit(df.loc[:, features+['cal_iauc']],\n",
    "          df.loc[:, target].values.ravel())\n",
    "pearsonr_scorer(model3,\n",
    "                df_val.loc[:, features+['cal_iauc']],\n",
    "                df_val.loc[:, target].values.ravel())"
   ]
  },
  {
   "cell_type": "code",
   "execution_count": null,
   "metadata": {
    "id": "jF6ZShgiXgSa"
   },
   "outputs": [],
   "source": [
    "bscore(model3,\n",
    "       df_val.loc[:, features+['cal_iauc']],\n",
    "       df_val.loc[:, target].values.ravel())"
   ]
  },
  {
   "cell_type": "code",
   "execution_count": null,
   "metadata": {
    "id": "2PSMsMilXgSb"
   },
   "outputs": [],
   "source": [
    "x = df_val.loc[:, target].values.ravel()\n",
    "y = model3.predict(df_val.loc[:, features+['cal_iauc']])\n",
    "plot_val_set(x, y, len(df_val.person_username.unique()))\n",
    "plt.ylabel('$\\mathregular{Predicted\\ glucose_{iAUC\\ 0-2h}}$')\n",
    "plt.xlabel('$\\mathregular{Measured\\ glucose_{iAUC\\ 0-2h}}$')\n",
    "plt.title(f'US')\n",
    "plt.xticks(rotation=90)\n",
    "plt.savefig('4br.svg', format='svg', bbox_inches='tight')"
   ]
  },
  {
   "cell_type": "code",
   "execution_count": null,
   "metadata": {
    "id": "MQ2Xi94uXgSb"
   },
   "outputs": [],
   "source": [
    "plot_bland_altman(y, x)\n",
    "plt.ylabel('$Diff(\\mathregular{Pred},\\mathregular{Meas}) \\; glu_{iAUC\\ 0-2h}}$')\n",
    "plt.xlabel('$Avg(\\mathregular{Pred}, \\mathregular{Meas}) \\; glu_{iAUC\\ 0-2h}}$')\n",
    "plt.title(f'US')\n",
    "plt.xticks(rotation=90)\n",
    "plt.show()"
   ]
  },
  {
   "cell_type": "code",
   "execution_count": null,
   "metadata": {
    "id": "xjpQa6M-XgSc"
   },
   "outputs": [],
   "source": []
  },
  {
   "cell_type": "code",
   "execution_count": null,
   "metadata": {
    "id": "js9BrlbsXgSc"
   },
   "outputs": [],
   "source": []
  },
  {
   "cell_type": "code",
   "execution_count": null,
   "metadata": {
    "id": "AEezbncKXgSc"
   },
   "outputs": [],
   "source": []
  },
  {
   "cell_type": "code",
   "execution_count": null,
   "metadata": {
    "id": "p3SnPwSEXgSc"
   },
   "outputs": [],
   "source": []
  },
  {
   "cell_type": "code",
   "execution_count": null,
   "metadata": {
    "id": "vtu4TbGvXgSd"
   },
   "outputs": [],
   "source": []
  },
  {
   "cell_type": "code",
   "execution_count": null,
   "metadata": {
    "id": "6BuezB2UXgSd"
   },
   "outputs": [],
   "source": []
  }
 ],
 "metadata": {
  "colab": {
   "provenance": []
  },
  "kernelspec": {
   "display_name": "Python 3",
   "language": "python",
   "name": "python3"
  },
  "language_info": {
   "codemirror_mode": {
    "name": "ipython",
    "version": 3
   },
   "file_extension": ".py",
   "mimetype": "text/x-python",
   "name": "python",
   "nbconvert_exporter": "python",
   "pygments_lexer": "ipython3",
   "version": "3.6.9"
  }
 },
 "nbformat": 4,
 "nbformat_minor": 1
}
