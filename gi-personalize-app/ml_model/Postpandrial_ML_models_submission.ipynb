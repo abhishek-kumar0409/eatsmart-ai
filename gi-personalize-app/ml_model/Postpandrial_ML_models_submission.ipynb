{
  "cells": [
    {
      "cell_type": "code",
      "execution_count": null,
      "metadata": {
        "id": "fdCz6oz7XgR2"
      },
      "outputs": [],
      "source": [
        "import numpy as np\n",
        "import pandas as pd\n",
        "import scipy\n",
        "\n",
        "from sklearn.compose import ColumnTransformer\n",
        "from sklearn.model_selection import KFold, GroupKFold, LeaveOneOut, LeaveOneGroupOut\n",
        "from sklearn.impute import SimpleImputer\n",
        "from sklearn.preprocessing import StandardScaler, OneHotEncoder\n",
        "from sklearn.decomposition import PCA\n",
        "from sklearn.ensemble import RandomForestRegressor\n",
        "from sklearn.metrics import make_scorer\n",
        "from sklearn.pipeline import Pipeline\n",
        "\n",
        "import matplotlib.pyplot as plt\n",
        "from matplotlib.ticker import MaxNLocator\n",
        "import seaborn as sns\n",
        "\n",
        "from tqdm.auto import tqdm\n",
        "tqdm.pandas()"
      ]
    },
    {
      "cell_type": "code",
      "execution_count": null,
      "metadata": {
        "id": "LfkCztCzXgR7"
      },
      "outputs": [],
      "source": [
        "RANDOM = 42"
      ]
    },
    {
      "cell_type": "code",
      "execution_count": null,
      "metadata": {
        "id": "TtH6h3YIXgR8"
      },
      "outputs": [],
      "source": [
        "ANTHROPOMETRY = ['person_clinic_weight', 'person_clinic_height','person_clinic_bmi','person_clinic_waist','person_clinic_hip',\n",
        "                'person_clinic_waist2hip']\n",
        "\n",
        "AGE = ['person_md_age']\n",
        "\n",
        "SEX = ['person_md_sex']\n",
        "\n",
        "CLINICAL_BIOCHEMESTRY = ['person_clinic_pulse_1', 'person_clinic_pulse_2', 'person_clinic_pulse_3',\n",
        "                         'person_clinic_pulse_1_diastolic', 'person_clinic_pulse_2_diastolic', 'person_clinic_pulse_3_diastolic',\n",
        "                         'person_clinic_pulse_1_systolic', 'person_clinic_pulse_2_systolic', 'person_clinic_pulse_3_systolic',\n",
        "                         'person_affinity_il6', 'person_affinity_alt',  'person_affinity_chol',\n",
        "                         'person_affinity_hdl', 'person_affinity_ldl',  'person_affinity_non_hdl',\n",
        "                         'person_affinity_thr', 'person_affinity_tsh', 'person_pglu',   'person_trig', 'person_ins',\n",
        "                         'person_cpep',   'person_hba1c',  'person_basophils', 'person_eosinophils',\n",
        "                         'person_hb', 'person_lymphocytes', 'person_mch', 'person_mcv',\n",
        "                         'person_monocytes', 'person_neutrophils',   'person_nrbc', 'person_pcv',  'person_plt',\n",
        "                         'person_rbc',  'person_rdw','person_wbc']\n",
        "\n",
        "MEAL_CONTEXT = [\n",
        "    'previous_meal_carbohydrate', 'previous_meal_time_since', 'meal_carb_3hr_bef', 'meal_carb_6hr_bef',\n",
        "    'meal_carb_9hr_bef', 'meal_carb_12hr_bef', 'activity_post_meal_mvpa', 'activity_pre_meal_mvpa',\n",
        "    'activity_pre_24h_meal_mvpa', 'activity_post_meal_light', 'activity_pre_meal_light', 'activity_pre_24h_meal_light',\n",
        "    'sleep_hours_since_wake_up', 'sleep_hours_to_next_onset', 'sleep_hours_duration', 'sleep_percentage_efficiency',\n",
        "    'meal_baseline_difference', 'meal_norm_start_at_midnight']\n",
        "\n",
        "MEAL_CONTENT = ['meal_fat2carbs', 'meal_calories','meal_carbohydrate','meal_fat','meal_protein', 'meal_fibre', 'meal_sugar']\n",
        "\n",
        "OTHERS = ['meal_study','person_username', 'meal_has_set_meal', 'meal_set_meal']\n",
        "\n",
        "ALL_FEAT = ANTHROPOMETRY + CLINICAL_BIOCHEMESTRY + AGE + SEX + MEAL_CONTEXT + MEAL_CONTENT\n",
        "RESPONSES = ['meal_iauc', 'trig_rise_6h', 'cpep_rise_1h']"
      ]
    },
    {
      "cell_type": "code",
      "execution_count": null,
      "metadata": {
        "id": "utKkQ_gqXgR9"
      },
      "outputs": [],
      "source": [
        "pearsonr_scorer = make_scorer(lambda x,y:scipy.stats.pearsonr(x,y)[0])"
      ]
    },
    {
      "cell_type": "code",
      "execution_count": null,
      "metadata": {
        "id": "Wkf0XutLXgR9"
      },
      "outputs": [],
      "source": [
        "def bscore(estimator, whole_x, whole_y, btimes=100):\n",
        "    '''\n",
        "    finds the bootstrapped score and prints the result\n",
        "    '''\n",
        "    np.random.seed(RANDOM)\n",
        "    scores = []\n",
        "    for _ in tqdm(range(btimes)):\n",
        "        idx = np.random.choice(len(whole_x), len(whole_x))\n",
        "        x = whole_x.iloc[idx, :]\n",
        "        y = whole_y[idx]\n",
        "        scores.append(pearsonr_scorer(estimator, x, y))\n",
        "    print('mean pearson R:', np.mean(scores))\n",
        "    print('std  pearson R:', np.std(scores))"
      ]
    },
    {
      "cell_type": "code",
      "execution_count": null,
      "metadata": {
        "id": "L2cvvGMSXgR-"
      },
      "outputs": [],
      "source": [
        "meals_clean_df = pd.read_csv('../data/sample_meals.csv')"
      ]
    },
    {
      "cell_type": "code",
      "execution_count": null,
      "metadata": {
        "id": "s7G1jR4rXgR_"
      },
      "outputs": [],
      "source": [
        "raw_microbiome_df = pd.read_csv('../data/sample_microbiome.csv')"
      ]
    },
    {
      "cell_type": "code",
      "execution_count": null,
      "metadata": {
        "id": "3EZWE8s1XgSA"
      },
      "outputs": [],
      "source": [
        "df_clean = meals_clean_df.merge(raw_microbiome_df, on=['person_username', 'meal_study'])"
      ]
    },
    {
      "cell_type": "code",
      "execution_count": null,
      "metadata": {
        "id": "nFzf10YiXgSA"
      },
      "outputs": [],
      "source": []
    },
    {
      "cell_type": "code",
      "execution_count": null,
      "metadata": {
        "id": "0pcpJ93qXgSB"
      },
      "outputs": [],
      "source": [
        "# perform feature reduction on microbiome\n",
        "df = raw_microbiome_df.loc[:, raw_microbiome_df.columns.str.contains('Bacteria')]\n",
        "pca_pipe = [('imputer', SimpleImputer(strategy='mean')),\n",
        "            ('scale', StandardScaler(with_mean=True,\n",
        "                                     with_std=True)),\n",
        "            ('pca', PCA(n_components=10))\n",
        "           ]\n",
        "axer = Pipeline(pca_pipe)\n",
        "pcadf = pd.DataFrame(axer.fit_transform(df))\n",
        "pcadf.columns = ['mb_pca_' + str(i) for i in range(len(pcadf.columns))]\n",
        "raw_microbiome_df = raw_microbiome_df.join(pcadf)"
      ]
    },
    {
      "cell_type": "code",
      "execution_count": null,
      "metadata": {
        "id": "t2sWyUqlXgSB"
      },
      "outputs": [],
      "source": [
        "# separate out dataframes (training and validation)\n",
        "df_uk = df_clean[df_clean.meal_study.isin(['PREDICT UK 1.0'])].reset_index(drop=True)\n",
        "df_us = df_clean[df_clean.meal_study.isin(['PREDICT US 1.0'])].reset_index(drop=True)"
      ]
    },
    {
      "cell_type": "code",
      "execution_count": null,
      "metadata": {
        "id": "Kzmu_XCSXgSC"
      },
      "outputs": [],
      "source": [
        "sns.scatterplot(df_uk.person_cpep, df_uk.cpep_rise_1h)\n",
        "sns.scatterplot(df_us.person_cpep, df_us.cpep_rise_1h)"
      ]
    },
    {
      "cell_type": "code",
      "execution_count": null,
      "metadata": {
        "id": "rNYTBlyMXgSC"
      },
      "outputs": [],
      "source": [
        "sns.scatterplot(df_uk.person_trig, df_uk.trig_rise_6h)\n",
        "sns.scatterplot(df_us.person_trig, df_us.trig_rise_6h)"
      ]
    },
    {
      "cell_type": "code",
      "execution_count": null,
      "metadata": {
        "id": "OLr9bulqXgSD"
      },
      "outputs": [],
      "source": [
        "def plot_val_set(x, y, n):\n",
        "    plt.rcParams.update({'font.size': 15})\n",
        "    fig, ax = plt.subplots(figsize=(5,5))\n",
        "    x_min = np.min(x)\n",
        "    x_max = np.max(x)\n",
        "    y_min = np.min(y)\n",
        "    y_max = np.max(y)\n",
        "    b_min = np.min([x_min, y_min])\n",
        "    b_max = np.max([x_max, y_max])\n",
        "    sns.scatterplot(y=y,\n",
        "                    x=x,\n",
        "                    ax=ax)\n",
        "    ax.set_xlim(b_min, b_max)\n",
        "    ax.set_ylim(b_min, b_max)\n",
        "    ax.plot(np.unique(x), np.poly1d(np.polyfit(x, y, 1))(np.unique(x)))\n",
        "    rval, pval = scipy.stats.pearsonr(x, y)\n",
        "    ax.annotate(f'R = {rval:0.2}', xy=(0.095, 0.9), xycoords='axes fraction')\n",
        "    ax.annotate(f'p = {pval:0.2e}', xy=(0.1, 0.85), xycoords='axes fraction', fontsize=12)\n",
        "    ax.annotate(f'n = {n}', xy=(0.1, 0.8), xycoords='axes fraction', fontsize=12)\n",
        "    ax.yaxis.set_major_locator(MaxNLocator(integer=True))\n",
        "    ax.xaxis.set_major_locator(MaxNLocator(integer=True))\n",
        "    ax.axhline(y=0, color='k', alpha=0.1)\n",
        "    ax.axvline(x=0, color='k', alpha=0.1)"
      ]
    },
    {
      "cell_type": "code",
      "execution_count": null,
      "metadata": {
        "id": "MVGkNtk1XgSD"
      },
      "outputs": [],
      "source": [
        "def plot_bland_altman(yp, y):\n",
        "\n",
        "    xx = (yp + y)/2\n",
        "    yy =  yp - y\n",
        "\n",
        "    m_th = yy.mean()\n",
        "    u_th = np.quantile(yy, 0.975)\n",
        "    uu_th = yy.std()*1.96\n",
        "\n",
        "    l_th = np.quantile(yy, 0.025)\n",
        "    ll_th = - yy.std()*1.96\n",
        "\n",
        "    plt.rcParams.update({'font.size': 15})\n",
        "    fig, ax = plt.subplots(figsize=(5,5))\n",
        "    sns.scatterplot(y=yy, x=xx, ax=ax)\n",
        "\n",
        "    ax.yaxis.set_major_locator(MaxNLocator(integer=True))\n",
        "    ax.xaxis.set_major_locator(MaxNLocator(integer=True))\n",
        "    ax.axhline(y=uu_th, color='k', alpha=0.25)\n",
        "    ax.axhline(y=m_th, color='k', alpha=1)\n",
        "    ax.axhline(y=ll_th, color='k', alpha=0.25)\n",
        ""
      ]
    },
    {
      "cell_type": "markdown",
      "metadata": {
        "id": "yW7tq3fbXgSD"
      },
      "source": [
        "# Trig Prediction"
      ]
    },
    {
      "cell_type": "code",
      "execution_count": null,
      "metadata": {
        "id": "WX4QjiaOXgSG"
      },
      "outputs": [],
      "source": [
        "# getting the necessary features\n",
        "features_num = ANTHROPOMETRY + CLINICAL_BIOCHEMESTRY + AGE + list(pcadf.columns.values)\n",
        "features_cat = SEX\n",
        "features = features_num + features_cat\n",
        "target = ['trig_rise_6h']\n",
        "df = df_uk.replace([np.inf, -np.inf], np.nan).loc[:, features+target+['person_username']].drop_duplicates().dropna(subset=target)\n",
        "df_val = df_us.replace([np.inf, -np.inf], np.nan).loc[:, features+target+['person_username']].drop_duplicates().dropna(subset=target)\n",
        "print('In UK:', len(df))\n",
        "print('In US:', len(df_val))\n",
        "print('In UK:', len(df.person_username.unique()))\n",
        "print('In US:', len(df_val.person_username.unique()))"
      ]
    },
    {
      "cell_type": "code",
      "execution_count": null,
      "metadata": {
        "id": "3MDZNMUvXgSH"
      },
      "outputs": [],
      "source": [
        "preprop_num = [('imputer', SimpleImputer(strategy='mean')),\n",
        "              ]\n",
        "preprop_cat = [('encode', OneHotEncoder())]\n",
        "pipe = [('preprocess', ColumnTransformer(transformers=[('num', Pipeline(preprop_num), features_num),\n",
        "                                                       ('cat', Pipeline(preprop_cat), features_cat)])),\n",
        "        ('regression', RandomForestRegressor(n_jobs=-1, n_estimators=1000, random_state=RANDOM))]"
      ]
    },
    {
      "cell_type": "code",
      "execution_count": null,
      "metadata": {
        "id": "TquscKzOXgSI"
      },
      "outputs": [],
      "source": [
        "model1 = Pipeline(pipe)"
      ]
    },
    {
      "cell_type": "code",
      "execution_count": null,
      "metadata": {
        "id": "6qRgfdYdXgSJ"
      },
      "outputs": [],
      "source": [
        "loo = LeaveOneOut()\n",
        "\n",
        "scores = []\n",
        "y = []\n",
        "yp = []\n",
        "\n",
        "for train_index, test_index in loo.split(df):\n",
        "    model1.fit(df.loc[:, features].iloc[train_index, :],\n",
        "               df.loc[:, target].iloc[train_index, :].values.ravel())\n",
        "    y.append(df.loc[:, target].iloc[test_index, :].values.ravel())\n",
        "    yp.append(model1.predict(df.loc[:, features].iloc[test_index, :]))\n",
        "\n",
        "y = np.concatenate(y)\n",
        "yp = np.concatenate(yp)"
      ]
    },
    {
      "cell_type": "code",
      "execution_count": null,
      "metadata": {
        "id": "ffFxPzuJXgSJ"
      },
      "outputs": [],
      "source": [
        "print('Leave-one-out Pearson R: {} p-val: {}'.format(*scipy.stats.pearsonr(y,yp)))"
      ]
    },
    {
      "cell_type": "code",
      "execution_count": null,
      "metadata": {
        "id": "UVpoiB-kXgSK"
      },
      "outputs": [],
      "source": [
        "kf = KFold(n_splits=5, random_state=RANDOM, shuffle=True)\n",
        "\n",
        "scores = []\n",
        "y = []\n",
        "yp = []\n",
        "for train_index, test_index in kf.split(df):\n",
        "    model1.fit(df.loc[:, features].iloc[train_index, :],\n",
        "               df.loc[:, target].iloc[train_index, :].values.ravel())\n",
        "    scores.append(pearsonr_scorer(model1,\n",
        "                                  df.loc[:, features].iloc[test_index, :],\n",
        "                                  df.loc[:, target].iloc[test_index, :].values.ravel()))\n",
        "    y.append(df.loc[:, target].iloc[test_index, :].values.ravel())\n",
        "    yp.append(model1.predict(df.loc[:, features].iloc[test_index, :]))\n",
        "y=np.concatenate(y)\n",
        "yp=np.concatenate(yp)\n",
        "scores"
      ]
    },
    {
      "cell_type": "code",
      "execution_count": null,
      "metadata": {
        "id": "KhJSEVOUXgSK"
      },
      "outputs": [],
      "source": [
        "print('mean:', np.mean(scores))\n",
        "print('std:', np.std(scores))"
      ]
    },
    {
      "cell_type": "code",
      "execution_count": null,
      "metadata": {
        "id": "VIlDRCiHXgSK"
      },
      "outputs": [],
      "source": [
        "plot_val_set(y, yp, len(df.person_username.unique()))\n",
        "plt.ylabel('$\\mathregular{Predicted\\ TG_{6h-rise}}$')\n",
        "plt.xlabel('$\\mathregular{Measured\\ TG_{6h-rise}}$')\n",
        "plt.title('UK')\n",
        "plt.savefig('4al.svg', format='svg', bbox_inches='tight')"
      ]
    },
    {
      "cell_type": "code",
      "execution_count": null,
      "metadata": {
        "id": "xqyxpeJNXgSK"
      },
      "outputs": [],
      "source": [
        "plot_bland_altman(yp, y)\n",
        "plt.ylabel('$Diff(\\mathregular{Pred},\\mathregular{Meas}) \\; TG_{6h-rise}$')\n",
        "plt.xlabel('$Avg(\\mathregular{Pred}, \\mathregular{Meas}) \\; TG_{6h-rise}$')\n",
        "plt.title('UK')"
      ]
    },
    {
      "cell_type": "code",
      "execution_count": null,
      "metadata": {
        "id": "Hd8ZQOlfXgSK"
      },
      "outputs": [],
      "source": [
        "model1.fit(df.loc[:, features],\n",
        "          df.loc[:, target].values.ravel())\n",
        "pearsonr_scorer(model1,\n",
        "                df_val.loc[:, features],\n",
        "                df_val.loc[:, target].values.ravel())"
      ]
    },
    {
      "cell_type": "code",
      "execution_count": null,
      "metadata": {
        "id": "ST0t5b5rXgSL"
      },
      "outputs": [],
      "source": [
        "bscore(model1,\n",
        "       df_val.loc[:, features],\n",
        "       df_val.loc[:, target].values.ravel())"
      ]
    },
    {
      "cell_type": "code",
      "execution_count": null,
      "metadata": {
        "id": "ee6RRQxGXgSL"
      },
      "outputs": [],
      "source": [
        "x = df_val.loc[:, target].values.ravel()\n",
        "y = model1.predict(df_val.loc[:, features])\n",
        "plot_val_set(x, y, len(df_val.person_username.unique()))\n",
        "plt.ylabel('$\\mathregular{Predicted\\ TG_{6h-rise}}$')\n",
        "plt.xlabel('$\\mathregular{Measured\\ TG_{6h-rise}}$')\n",
        "plt.title(f'US')\n",
        "plt.savefig('4ar.svg', format='svg', bbox_inches='tight')"
      ]
    },
    {
      "cell_type": "code",
      "execution_count": null,
      "metadata": {
        "id": "cYJfw5bwXgSL"
      },
      "outputs": [],
      "source": [
        "plot_bland_altman(y, x)\n",
        "plt.ylabel('$Diff(\\mathregular{Pred},\\mathregular{Meas}) \\; TG_{6h-rise}$')\n",
        "plt.xlabel('$Avg(\\mathregular{Pred}, \\mathregular{Meas}) \\; TG_{6h-rise}$')\n",
        "plt.title(f'US')"
      ]
    },
    {
      "cell_type": "markdown",
      "metadata": {
        "id": "SvYip7R2XgSL"
      },
      "source": [
        "# CPEP Prediction"
      ]
    },
    {
      "cell_type": "code",
      "execution_count": null,
      "metadata": {
        "id": "Lt4VlAyEXgSM"
      },
      "outputs": [],
      "source": [
        "# getting the necessary features\n",
        "features_num = ANTHROPOMETRY + CLINICAL_BIOCHEMESTRY + AGE + list(pcadf.columns.values)\n",
        "features_cat = SEX\n",
        "features = features_num + features_cat\n",
        "target = ['cpep_rise_1h']\n",
        "df = df_uk.replace([np.inf, -np.inf], np.nan).loc[:, features+target+['person_username']].drop_duplicates().dropna(subset=target)\n",
        "df_val = df_us.replace([np.inf, -np.inf], np.nan).loc[:, features+target+['person_username']].drop_duplicates().dropna(subset=target)\n",
        "print('In UK:', len(df))\n",
        "print('In US:', len(df_val))\n",
        "print('In UK:', len(df.person_username.unique()))\n",
        "print('In US:', len(df_val.person_username.unique()))"
      ]
    },
    {
      "cell_type": "code",
      "execution_count": null,
      "metadata": {
        "id": "20cdiJxlXgSM"
      },
      "outputs": [],
      "source": [
        "preprop_num = [('imputer', SimpleImputer(strategy='mean')),\n",
        "              ]\n",
        "preprop_cat = [('encode', OneHotEncoder())]\n",
        "pipe = [('preprocess', ColumnTransformer(transformers=[('num', Pipeline(preprop_num), features_num),\n",
        "                                                       ('cat', Pipeline(preprop_cat), features_cat)])),\n",
        "        ('regression', RandomForestRegressor(n_jobs=-1, n_estimators=1000, random_state=RANDOM))]"
      ]
    },
    {
      "cell_type": "code",
      "execution_count": null,
      "metadata": {
        "id": "yj3931PeXgSM"
      },
      "outputs": [],
      "source": [
        "model2 = Pipeline(pipe)"
      ]
    },
    {
      "cell_type": "code",
      "execution_count": null,
      "metadata": {
        "id": "HFswtL2FXgSM"
      },
      "outputs": [],
      "source": [
        "loo = LeaveOneOut()\n",
        "y = []\n",
        "yp = []\n",
        "for train_index, test_index in loo.split(df):\n",
        "    model2.fit(df.loc[:, features].iloc[train_index, :],\n",
        "               df.loc[:, target].iloc[train_index, :].values.ravel())\n",
        "    y.append(df.loc[:, target].iloc[test_index, :].values.ravel())\n",
        "    yp.append(model2.predict(df.loc[:, features].iloc[test_index, :]))\n",
        "y=np.concatenate(y)\n",
        "yp=np.concatenate(yp)"
      ]
    },
    {
      "cell_type": "code",
      "execution_count": null,
      "metadata": {
        "id": "nKDyrjgUXgSM"
      },
      "outputs": [],
      "source": [
        "print('Leave-one-out Pearson R: {} p-val: {}'.format(*scipy.stats.pearsonr(y,yp)))"
      ]
    },
    {
      "cell_type": "code",
      "execution_count": null,
      "metadata": {
        "scrolled": true,
        "id": "Xr7LA_iEXgSN"
      },
      "outputs": [],
      "source": [
        "kf = KFold(n_splits=5, random_state=RANDOM, shuffle=True)\n",
        "scores = []\n",
        "y = []\n",
        "yp = []\n",
        "for train_index, test_index in kf.split(df):\n",
        "    model2.fit(df.loc[:, features].iloc[train_index, :],\n",
        "               df.loc[:, target].iloc[train_index, :].values.ravel())\n",
        "    scores.append(pearsonr_scorer(model2,\n",
        "                                  df.loc[:, features].iloc[test_index, :],\n",
        "                                  df.loc[:, target].iloc[test_index, :].values.ravel()))\n",
        "    y.append(df.loc[:, target].iloc[test_index, :].values.ravel())\n",
        "    yp.append(model2.predict(df.loc[:, features].iloc[test_index, :]))\n",
        "y=np.concatenate(y)\n",
        "yp=np.concatenate(yp)\n",
        "scores"
      ]
    },
    {
      "cell_type": "code",
      "execution_count": null,
      "metadata": {
        "id": "nYktVAKGXgSN"
      },
      "outputs": [],
      "source": [
        "print('mean:', np.mean(scores))\n",
        "print('std:', np.std(scores))"
      ]
    },
    {
      "cell_type": "code",
      "execution_count": null,
      "metadata": {
        "id": "M8m9ELiZXgSO"
      },
      "outputs": [],
      "source": [
        "plot_val_set(y, yp, len(df.person_username.unique()))\n",
        "plt.ylabel('$\\mathregular{Predicted\\ C-peptide_{1h-rise}}$')\n",
        "plt.xlabel('$\\mathregular{Measured\\ C-peptide_{1h-rise}}$')\n",
        "plt.title(f'UK')\n",
        "plt.savefig('4cl.svg', format='svg', bbox_inches='tight')"
      ]
    },
    {
      "cell_type": "code",
      "execution_count": null,
      "metadata": {
        "id": "FPRAhZ5pXgSO"
      },
      "outputs": [],
      "source": [
        "plot_bland_altman(yp, y)\n",
        "plt.ylabel('$Diff(\\mathregular{Pred},\\mathregular{Meas}) \\; C-pep_{1h-rise}}$')\n",
        "plt.xlabel('$Avg(\\mathregular{Pred}, \\mathregular{Meas}) \\; C-pep_{1h-rise}}$')\n",
        "plt.title('UK')"
      ]
    },
    {
      "cell_type": "code",
      "execution_count": null,
      "metadata": {
        "id": "iLrB_LtbXgSU"
      },
      "outputs": [],
      "source": [
        "model2.fit(df.loc[:, features],\n",
        "          df.loc[:, target].values.ravel())\n",
        "pearsonr_scorer(model2,\n",
        "                df_val.loc[:, features],\n",
        "                df_val.loc[:, target].values.ravel())"
      ]
    },
    {
      "cell_type": "code",
      "execution_count": null,
      "metadata": {
        "id": "kSRHUVeHXgSV"
      },
      "outputs": [],
      "source": [
        "bscore(model2,\n",
        "       df_val.loc[:, features],\n",
        "       df_val.loc[:, target].values.ravel())"
      ]
    },
    {
      "cell_type": "code",
      "execution_count": null,
      "metadata": {
        "id": "k5Fg1zcgXgSV"
      },
      "outputs": [],
      "source": [
        "x = df_val.loc[:, target].values.ravel()\n",
        "y = model2.predict(df_val.loc[:, features])\n",
        "plot_val_set(x, y, len(df_val.person_username.unique()))\n",
        "plt.ylabel('$\\mathregular{Predicted\\ C-peptide_{1h-rise}}$')\n",
        "plt.xlabel('$\\mathregular{Measured\\ C-peptide_{1h-rise}}$')\n",
        "plt.title(f'US')\n",
        "plt.savefig('4cr.svg', format='svg', bbox_inches='tight')"
      ]
    },
    {
      "cell_type": "code",
      "execution_count": null,
      "metadata": {
        "id": "sNubTtKWXgSW"
      },
      "outputs": [],
      "source": [
        "plot_bland_altman(y, x)\n",
        "plt.ylabel('$Diff(\\mathregular{Pred},\\mathregular{Meas}) \\; C-pep_{1h-rise}}$')\n",
        "plt.xlabel('$Avg(\\mathregular{Pred}, \\mathregular{Meas}) \\; C-pep_{1h-rise}}$')\n",
        "plt.title(f'US')"
      ]
    },
    {
      "cell_type": "markdown",
      "metadata": {
        "id": "AxIOOLclXgSW"
      },
      "source": [
        "# GLU Prediction"
      ]
    },
    {
      "cell_type": "code",
      "execution_count": null,
      "metadata": {
        "id": "lScbWjoeXgSW"
      },
      "outputs": [],
      "source": [
        "# function to add calibration meals\n",
        "def add_cal_meal(df_in):\n",
        "    def add_ogtt(df):\n",
        "        avg_ogtt = df[df.meal_set_meal.isin(['Meal CC'])].meal_iauc.mean()\n",
        "        dfr = df[~df.meal_set_meal.isin(['Meal CC'])]\n",
        "        dfr['cal_iauc'] = avg_ogtt\n",
        "        return dfr\n",
        "    return df_in.groupby('person_username').apply(add_ogtt)"
      ]
    },
    {
      "cell_type": "code",
      "execution_count": null,
      "metadata": {
        "id": "_tBqLCtFXgSW"
      },
      "outputs": [],
      "source": [
        "# getting the necessary features\n",
        "features_num = ANTHROPOMETRY + CLINICAL_BIOCHEMESTRY + AGE + MEAL_CONTEXT + MEAL_CONTENT  + list(pcadf.columns.values)\n",
        "features_cat = SEX\n",
        "features = features_num + features_cat\n",
        "target = ['meal_iauc']\n",
        "# using only set meals\n",
        "dfc_uk = add_cal_meal(df_uk)\n",
        "dfc_us = add_cal_meal(df_us)\n",
        "df = dfc_uk[dfc_uk.meal_has_set_meal].replace([np.inf, -np.inf], np.nan).loc[:, features+target+['cal_iauc', 'person_username']].drop_duplicates().dropna(subset=target)\n",
        "df_val = dfc_us[dfc_us.meal_has_set_meal].replace([np.inf, -np.inf], np.nan).loc[:, features+target+['cal_iauc', 'person_username']].drop_duplicates().dropna(subset=target)\n",
        "print('In UK:', len(df))\n",
        "print('In US:', len(df_val))\n",
        "print('In UK:', len(df.person_username.unique()))\n",
        "print('In US:', len(df_val.person_username.unique()))"
      ]
    },
    {
      "cell_type": "code",
      "execution_count": null,
      "metadata": {
        "id": "w9UfuiBYXgSX"
      },
      "outputs": [],
      "source": [
        "preprop_num = [('imputer', SimpleImputer(strategy='mean')),\n",
        "              ]\n",
        "preprop_cat = [('encode', OneHotEncoder())]\n",
        "pipe = [('preprocess', ColumnTransformer(transformers=[('num', Pipeline(preprop_num), features_num+['cal_iauc']),\n",
        "                                                       ('cat', Pipeline(preprop_cat), features_cat)])),\n",
        "        ('regression', RandomForestRegressor(n_jobs=-1, n_estimators=100, random_state=RANDOM))]\n",
        "        #('regression', LinearRegression())]"
      ]
    },
    {
      "cell_type": "code",
      "execution_count": null,
      "metadata": {
        "id": "VwM01HoQXgSX"
      },
      "outputs": [],
      "source": [
        "model3 = Pipeline(pipe)"
      ]
    },
    {
      "cell_type": "code",
      "execution_count": null,
      "metadata": {
        "id": "7_gHAUAtXgSX"
      },
      "outputs": [],
      "source": [
        "loo = LeaveOneGroupOut().split(df.loc[:, 'person_username'], groups=df.loc[:, 'person_username'])\n",
        "scores = []\n",
        "y = []\n",
        "yp = []\n",
        "for train_index, test_index in loo:\n",
        "    model3.fit(df.loc[:, features+['cal_iauc']].iloc[train_index, :],\n",
        "               df.loc[:, target].iloc[train_index, :].values.ravel())\n",
        "    y.append(df.loc[:, target].iloc[test_index, :].values.ravel())\n",
        "    yp.append(model3.predict(df.loc[:, features+['cal_iauc']].iloc[test_index, :]))\n",
        "y=np.concatenate(y)\n",
        "yp=np.concatenate(yp)"
      ]
    },
    {
      "cell_type": "code",
      "execution_count": null,
      "metadata": {
        "id": "GGpDRlQdXgSX"
      },
      "outputs": [],
      "source": [
        "print('Leave-one-out Pearson R: {} p-val: {}'.format(*scipy.stats.pearsonr(y,yp)))"
      ]
    },
    {
      "cell_type": "code",
      "execution_count": null,
      "metadata": {
        "id": "WLDsrjaMXgSY"
      },
      "outputs": [],
      "source": [
        "kf = GroupKFold(n_splits=5).split(df.loc[:, 'person_username'], groups=df.loc[:, 'person_username'])\n",
        "scores = []\n",
        "y = []\n",
        "yp = []\n",
        "for train_index, test_index in kf:\n",
        "    model3.fit(df.loc[:, features+['cal_iauc']].iloc[train_index, :],\n",
        "               df.loc[:, target].iloc[train_index, :].values.ravel())\n",
        "    scores.append(pearsonr_scorer(model3,\n",
        "                                  df.loc[:, features+['cal_iauc']].iloc[test_index, :],\n",
        "                                  df.loc[:, target].iloc[test_index, :].values.ravel()))\n",
        "    y.append(df.loc[:, target].iloc[test_index, :].values.ravel())\n",
        "    yp.append(model3.predict(df.loc[:, features+['cal_iauc']].iloc[test_index, :]))\n",
        "y=np.concatenate(y)\n",
        "yp=np.concatenate(yp)\n",
        "scores"
      ]
    },
    {
      "cell_type": "code",
      "execution_count": null,
      "metadata": {
        "id": "Ho7tjOBeXgSY"
      },
      "outputs": [],
      "source": []
    },
    {
      "cell_type": "code",
      "execution_count": null,
      "metadata": {
        "id": "XKP6-FJOXgSY"
      },
      "outputs": [],
      "source": [
        "print('mean:', np.mean(scores))\n",
        "print('std:', np.std(scores))"
      ]
    },
    {
      "cell_type": "code",
      "execution_count": null,
      "metadata": {
        "id": "kWmUfpQ3XgSY"
      },
      "outputs": [],
      "source": [
        "plot_val_set(y, yp, len(df.person_username.unique()))\n",
        "plt.ylabel('$\\mathregular{Predicted\\ glucose{iAUC\\ 0-2h}}$')\n",
        "plt.xlabel('$\\mathregular{Measured\\ glucose_{iAUC\\ 0-2h}}$')\n",
        "plt.title(f'UK')\n",
        "plt.xticks(rotation=90)\n",
        "plt.savefig('4bl.svg', format='svg', bbox_inches='tight')"
      ]
    },
    {
      "cell_type": "code",
      "execution_count": null,
      "metadata": {
        "id": "b9bK14AhXgSZ"
      },
      "outputs": [],
      "source": [
        "plot_bland_altman(yp, y)\n",
        "plt.ylabel('$Diff(\\mathregular{Pred},\\mathregular{Meas}) \\; glu_{iAUC\\ 0-2h}}$')\n",
        "plt.xlabel('$Avg(\\mathregular{Pred}, \\mathregular{Meas}) \\; glu_{iAUC\\ 0-2h}}$')\n",
        "plt.title(f'UK')\n",
        "plt.xticks(rotation=90)\n",
        "plt.show()"
      ]
    },
    {
      "cell_type": "code",
      "execution_count": null,
      "metadata": {
        "id": "C5fjPRoIXgSZ"
      },
      "outputs": [],
      "source": []
    },
    {
      "cell_type": "code",
      "execution_count": null,
      "metadata": {
        "id": "cJxMMRwTXgSZ"
      },
      "outputs": [],
      "source": [
        "model3.fit(df.loc[:, features+['cal_iauc']],\n",
        "          df.loc[:, target].values.ravel())\n",
        "pearsonr_scorer(model3,\n",
        "                df_val.loc[:, features+['cal_iauc']],\n",
        "                df_val.loc[:, target].values.ravel())"
      ]
    },
    {
      "cell_type": "code",
      "execution_count": null,
      "metadata": {
        "id": "jF6ZShgiXgSa"
      },
      "outputs": [],
      "source": [
        "bscore(model3,\n",
        "       df_val.loc[:, features+['cal_iauc']],\n",
        "       df_val.loc[:, target].values.ravel())"
      ]
    },
    {
      "cell_type": "code",
      "execution_count": null,
      "metadata": {
        "id": "2PSMsMilXgSb"
      },
      "outputs": [],
      "source": [
        "x = df_val.loc[:, target].values.ravel()\n",
        "y = model3.predict(df_val.loc[:, features+['cal_iauc']])\n",
        "plot_val_set(x, y, len(df_val.person_username.unique()))\n",
        "plt.ylabel('$\\mathregular{Predicted\\ glucose_{iAUC\\ 0-2h}}$')\n",
        "plt.xlabel('$\\mathregular{Measured\\ glucose_{iAUC\\ 0-2h}}$')\n",
        "plt.title(f'US')\n",
        "plt.xticks(rotation=90)\n",
        "plt.savefig('4br.svg', format='svg', bbox_inches='tight')"
      ]
    },
    {
      "cell_type": "code",
      "execution_count": null,
      "metadata": {
        "id": "MQ2Xi94uXgSb"
      },
      "outputs": [],
      "source": [
        "plot_bland_altman(y, x)\n",
        "plt.ylabel('$Diff(\\mathregular{Pred},\\mathregular{Meas}) \\; glu_{iAUC\\ 0-2h}}$')\n",
        "plt.xlabel('$Avg(\\mathregular{Pred}, \\mathregular{Meas}) \\; glu_{iAUC\\ 0-2h}}$')\n",
        "plt.title(f'US')\n",
        "plt.xticks(rotation=90)\n",
        "plt.show()"
      ]
    },
    {
      "cell_type": "code",
      "execution_count": null,
      "metadata": {
        "id": "xjpQa6M-XgSc"
      },
      "outputs": [],
      "source": []
    },
    {
      "cell_type": "code",
      "execution_count": null,
      "metadata": {
        "id": "js9BrlbsXgSc"
      },
      "outputs": [],
      "source": []
    },
    {
      "cell_type": "code",
      "execution_count": null,
      "metadata": {
        "id": "AEezbncKXgSc"
      },
      "outputs": [],
      "source": []
    },
    {
      "cell_type": "code",
      "execution_count": null,
      "metadata": {
        "id": "p3SnPwSEXgSc"
      },
      "outputs": [],
      "source": []
    },
    {
      "cell_type": "code",
      "execution_count": null,
      "metadata": {
        "id": "vtu4TbGvXgSd"
      },
      "outputs": [],
      "source": []
    },
    {
      "cell_type": "code",
      "execution_count": null,
      "metadata": {
        "id": "6BuezB2UXgSd"
      },
      "outputs": [],
      "source": []
    }
  ],
  "metadata": {
    "kernelspec": {
      "display_name": "Python 3 (ipykernel)",
      "language": "python",
      "name": "python3"
    },
    "language_info": {
      "codemirror_mode": {
        "name": "ipython",
        "version": 3
      },
      "file_extension": ".py",
      "mimetype": "text/x-python",
      "name": "python",
      "nbconvert_exporter": "python",
      "pygments_lexer": "ipython3",
      "version": "3.11.1"
    },
    "colab": {
      "provenance": []
    }
  },
  "nbformat": 4,
  "nbformat_minor": 0
}